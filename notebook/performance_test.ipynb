{
 "cells": [
  {
   "attachments": {},
   "cell_type": "markdown",
   "metadata": {},
   "source": [
    "# Performance"
   ]
  },
  {
   "cell_type": "code",
   "execution_count": 1,
   "metadata": {},
   "outputs": [],
   "source": [
    "import sys\n",
    "sys.path.insert(0, 'D:/work/Personal/ml_project_2_deep_hedging/src')"
   ]
  },
  {
   "cell_type": "code",
   "execution_count": 2,
   "metadata": {},
   "outputs": [
    {
     "name": "stderr",
     "output_type": "stream",
     "text": [
      "d:\\work\\Personal\\ml_project_2_deep_hedging\\venv\\lib\\site-packages\\tqdm\\auto.py:22: TqdmWarning: IProgress not found. Please update jupyter and ipywidgets. See https://ipywidgets.readthedocs.io/en/stable/user_install.html\n",
      "  from .autonotebook import tqdm as notebook_tqdm\n"
     ]
    }
   ],
   "source": [
    "import os\n",
    "import numpy as np\n",
    "import matplotlib.pyplot as plt\n",
    "\n",
    "from tqdm import tqdm\n",
    "from scipy.stats import norm\n",
    "from simulation import *\n",
    "from env import StockTradingEnv\n",
    "from agent import DDPG_Hedger\n",
    "from paths import DATA_ROOT\n",
    "from network import MLP"
   ]
  },
  {
   "attachments": {},
   "cell_type": "markdown",
   "metadata": {},
   "source": [
    "## Generate data and appply classical hedging\n",
    "\n",
    "*Please save these parameters to reproduce the plots included in the report*"
   ]
  },
  {
   "cell_type": "code",
   "execution_count": 84,
   "metadata": {},
   "outputs": [],
   "source": [
    "T = 60 # length of simulation 20= 1 month, 60 = 3 months\n",
    "S0 = 100 # starting price\n",
    "K = 100 # strike price\n",
    "sigma = 0.2 # volatility\n",
    "r = 0 # risk-free rate\n",
    "q = 0 # dividend yield\n",
    "mu = 0.05 # expected return on stock\n",
    "kappa = 0.01 # trading cost per unit traded\n",
    "dt = 1 # hedging time step\n",
    "notional = 100 # how many stocks the option is on\n",
    "rho = -0.4 # correlation of stochastic volatility process\n",
    "v = 0.6\n",
    "sigma0 = 0.2 # starting volatility\n",
    "c = 1.5 #standard deviation coefficient\n",
    "ds = 0.01\n",
    "\n",
    "n = 3000 # number of simulatied paths\n",
    "days = 250 # number of days in a year\n",
    "freq = 1 # trading frequency \n",
    "np.random.seed(12)   # seed = 12 to get same plots as in report"
   ]
  },
  {
   "attachments": {},
   "cell_type": "markdown",
   "metadata": {},
   "source": [
    "- 1st run: save train data\n",
    "- 2nd run or more: ignore this process and import data and run afterwards."
   ]
  },
  {
   "cell_type": "code",
   "execution_count": 85,
   "metadata": {},
   "outputs": [
    {
     "name": "stderr",
     "output_type": "stream",
     "text": [
      "100%|██████████| 59/59 [00:00<00:00, 14803.13it/s]\n",
      "100%|██████████| 59/59 [00:00<00:00, 4933.29it/s]\n",
      "D:\\work/Personal/ml_project_2_deep_hedging/src\\simulation.py:124: RuntimeWarning: invalid value encountered in divide\n",
      "  imp_vol = np.where(f == K, atm, atm * xi / xi_func)\n"
     ]
    }
   ],
   "source": [
    "S_gbm, p_gbm, d_gbm = simulateGBM(n, T, dt, S0, mu, r, q, sigma, days, freq, K)\n",
    "\n",
    "S_sabr, s_sabr, iv_sabr, p_sabr, delta_sabr, delta_sabr_bl = simulateSABR(\n",
    "    n, T, dt, S0, mu, r, q, sigma, days, freq, rho, ds, v, K)"
   ]
  },
  {
   "cell_type": "code",
   "execution_count": 86,
   "metadata": {},
   "outputs": [],
   "source": [
    "# classical hedging implementations (trading strategies)\n",
    "trading_gbm, holding_gbm = hedgingStrategy(\"GBM\",notional, d_gbm, 0)\n",
    "trading_sabr, holding_sabr, trading_sabr_bl, holding_sabr_bl = hedgingStrategy(\"SABR\",notional, delta_sabr, delta_sabr_bl)"
   ]
  },
  {
   "cell_type": "code",
   "execution_count": 87,
   "metadata": {},
   "outputs": [],
   "source": [
    "# Accounting PnL\n",
    "APL_gbm, holding_lagged_gbm = APL_process(S_gbm, p_gbm*notional, holding_gbm, K, notional, kappa)\n",
    "APL_sabr, holding_lagged_sabr = APL_process(S_sabr, p_sabr*notional, holding_sabr, K, notional, kappa)\n",
    "APL_sabr_bl, holding_lagged_sabr_bl = APL_process(S_sabr, p_sabr*notional, holding_sabr_bl, K, notional, kappa)"
   ]
  },
  {
   "cell_type": "code",
   "execution_count": 88,
   "metadata": {},
   "outputs": [],
   "source": [
    "# Evaluation:\n",
    "# Y(0) (take mean), \n",
    "# mean of  cost as percentage of option price,\n",
    "# std of  cost as percentage of option price.\n",
    "\n",
    "Y_gbm, mPerc_gbm, stdPerc_gbm = evaluate(APL_gbm, p_gbm, c, notional) \n",
    "Y_sabr, mPerc_sabr, stdPerc_sabr = evaluate(APL_sabr, p_sabr, c, notional)\n",
    "Y_sabr_bl, mPerc_sabr_bl, stdPerc_sabr_bl = evaluate(APL_sabr_bl, p_sabr, c, notional)"
   ]
  },
  {
   "cell_type": "code",
   "execution_count": 89,
   "metadata": {},
   "outputs": [
    {
     "name": "stdout",
     "output_type": "stream",
     "text": [
      "GBM\n",
      "Y0:  230.9829592102956\n",
      "mean cost (%):  0.3080889376353497\n",
      "std cost (%):  0.18871668063054245\n",
      "\n",
      "\n",
      "SABR delta\n",
      "Y0:  235.67621433656325\n",
      "mean cost (%):  0.31010111663691714\n",
      "std cost (%):  0.19538298544289592\n",
      "\n",
      "\n",
      "SABR Bartlett\n",
      "Y0:  235.95545018770576\n",
      "mean cost (%):  0.3110807104445588\n",
      "std cost (%):  0.19520636258556995\n"
     ]
    }
   ],
   "source": [
    "print(\"GBM\")\n",
    "print(\"Y0: \", np.mean(Y_gbm))\n",
    "print(\"mean cost (%): \", mPerc_gbm)\n",
    "print(\"std cost (%): \", stdPerc_gbm)\n",
    "print(\"\\n\")\n",
    "print(\"SABR delta\")\n",
    "print(\"Y0: \", np.mean(Y_sabr))\n",
    "print(\"mean cost (%): \", mPerc_sabr)\n",
    "print(\"std cost (%): \", stdPerc_sabr)\n",
    "print(\"\\n\")\n",
    "print(\"SABR Bartlett\")\n",
    "print(\"Y0: \", np.mean(Y_sabr_bl))\n",
    "print(\"mean cost (%): \", mPerc_sabr_bl)\n",
    "print(\"std cost (%): \", stdPerc_sabr_bl)"
   ]
  },
  {
   "attachments": {},
   "cell_type": "markdown",
   "metadata": {},
   "source": [
    "## data saving"
   ]
  },
  {
   "attachments": {},
   "cell_type": "markdown",
   "metadata": {},
   "source": [
    "Below code saves data in the `data` folder. You need to make sure that your\n",
    "`T` and `freq` is defined well in the environment."
   ]
  },
  {
   "cell_type": "code",
   "execution_count": 94,
   "metadata": {},
   "outputs": [
    {
     "name": "stdout",
     "output_type": "stream",
     "text": [
      "(6000, 20)\n",
      "(6000, 20)\n"
     ]
    }
   ],
   "source": [
    "result_folder_path = DATA_ROOT + f\"/{T//20}month/{freq}d\"\n",
    "os.makedirs(result_folder_path, exist_ok=True)\n",
    "\n",
    "# define data\n",
    "# save to csv file\n",
    "np.savetxt(DATA_ROOT + f'/{T//20}month/{freq}d/asset_price_GBM_sim.csv', S_gbm, delimiter=',')\n",
    "np.savetxt(DATA_ROOT + f'/{T//20}month/{freq}d/option_price_GBM_sim.csv', p_gbm*notional, delimiter=',')\n",
    "np.savetxt(DATA_ROOT + f'/{T//20}month/{freq}d/asset_price_SABR_sim.csv', S_sabr, delimiter=',')\n",
    "np.savetxt(DATA_ROOT + f'/{T//20}month/{freq}d/option_price_SABR_sim.csv', p_sabr*notional, delimiter=',')\n",
    "\n",
    "\n",
    "S_mixed = np.vstack((S_gbm, S_sabr))\n",
    "p_mixed = np.vstack((p_gbm*notional, p_sabr*notional))\n",
    "print(S_mixed.shape)\n",
    "print(p_mixed.shape)\n",
    "np.savetxt(DATA_ROOT + f\"/{T//20}month/{freq}d/asset_price_mixed_sim.csv\", S_mixed, delimiter=\",\")\n",
    "np.savetxt(DATA_ROOT + f\"/{T//20}month/{freq}d/option_price_mixed_sim.csv\", p_mixed, delimiter=\",\")"
   ]
  },
  {
   "attachments": {},
   "cell_type": "markdown",
   "metadata": {},
   "source": [
    "# Deep RL Method \n",
    "\n",
    "first cell : loading pre-trained weights into the agent \n",
    "\n",
    "second cell : running the experiment on the n paths (episodes)"
   ]
  },
  {
   "cell_type": "code",
   "execution_count": 90,
   "metadata": {},
   "outputs": [],
   "source": [
    "data_type = \"SABR\"\n",
    "\n",
    "env = StockTradingEnv(maturity=3, frequency=1, data_type=data_type, test_env=True)\n",
    "\n",
    "# set same dataset as delta hedging\n",
    "if data_type == \"SABR\":\n",
    "    env.asset_price = S_sabr\n",
    "    env.option_price = p_sabr\n",
    "elif data_type == \"GBM\":\n",
    "    env.asset_price = S_gbm\n",
    "    env.option_price = p_gbm\n",
    "else:\n",
    "    env.asset_price = S_mixed\n",
    "    env.option_price = p_mixed\n",
    "\n",
    "nState, nAction = env.observation_space.shape[0], \\\n",
    "                    env.action_space.shape[0]  # 3, 1\n",
    "\n",
    "# we use hidden layer size of 32, 64 as the author used.\n",
    "actor = MLP(nState, 16, nAction, \"Sigmoid\")\n",
    "qnet_1 = MLP(nState + nAction, 16, nAction, \"\")\n",
    "qnet_2 = MLP(nState + nAction, 16, nAction, \"\")\n",
    "agent = DDPG_Hedger(actor, qnet_1, qnet_2, 0, 0, 1, 32)\n",
    "\n",
    "# model = 'v9_2nd' to obtain plots as in report\n",
    "model = 'v9_2nd'\n",
    "agent.load(model)"
   ]
  },
  {
   "cell_type": "code",
   "execution_count": 91,
   "metadata": {},
   "outputs": [
    {
     "name": "stdout",
     "output_type": "stream",
     "text": [
      "Episode 0\n",
      "Episode 1000\n",
      "Episode 2000\n"
     ]
    }
   ],
   "source": [
    "# below code outputs actions and stores rewards and actions\n",
    "path_indice, rewards_path, action_path = [], [], []\n",
    "for i in range(n):\n",
    "    state = env.reset()\n",
    "    env.path_idx = i\n",
    "    \n",
    "    path_indice.append(env.path_idx)\n",
    "    rewards, actions = [], [0]\n",
    "    done = False\n",
    "    \n",
    "    if i%1000 == 0:\n",
    "        print(f'Episode {i}')\n",
    "    while not done:\n",
    "        normalized_state = env.normalize(state)\n",
    "        \n",
    "        # action without exploration\n",
    "        action = agent.act(normalized_state, 0)\n",
    "        \n",
    "        next_state, reward, done = env.step(action)\n",
    "\n",
    "        state = next_state\n",
    "        rewards.append(np.round(reward, 2))\n",
    "        actions.append(np.round(action, 2)) # each episode [0.99, 13.20 ... 100 ] shape (1,60) \n",
    "        \n",
    "        if done:\n",
    "            break\n",
    "\n",
    "    # save rewards, action paths for every episode\n",
    "    rewards_path.append(rewards) # <- (numEpisode=25000, 60)\n",
    "    action_path.append(actions) # (numEpisode=25000, 60) = holding_gbm"
   ]
  },
  {
   "attachments": {},
   "cell_type": "markdown",
   "metadata": {},
   "source": [
    "## GBM"
   ]
  },
  {
   "attachments": {},
   "cell_type": "markdown",
   "metadata": {},
   "source": [
    "Below code calculates mean, std cost and Y(0) for GBM data."
   ]
  },
  {
   "cell_type": "code",
   "execution_count": 73,
   "metadata": {},
   "outputs": [
    {
     "name": "stdout",
     "output_type": "stream",
     "text": [
      "GBM\n",
      "Y0:  10.655170994559722\n",
      "mean cost (%):  -0.06702134813449519\n",
      "std cost (%):  0.06286103662173377\n",
      "GBM RL\n",
      "Y0:  115.0326657587114\n",
      "mean cost (%):  -0.12078390201830301\n",
      "std cost (%):  0.2767944137440452\n"
     ]
    }
   ],
   "source": [
    "# get action array as holding gbm\n",
    "apl_gbm_rl, holding_lagged_rl = APL_process(S_gbm, p_gbm*notional, np.array(action_path), K, notional, kappa)\n",
    "Y_gbm_rl, mPerc_gbm_rl, stdPerc_gbm_rl = evaluate(apl_gbm_rl, p_gbm, c, notional) \n",
    "\n",
    "print(\"GBM\")\n",
    "print(\"Y0: \", np.mean(Y_gbm))\n",
    "print(\"mean cost (%): \", mPerc_gbm)\n",
    "print(\"std cost (%): \", stdPerc_gbm)\n",
    "\n",
    "print(\"GBM RL\")\n",
    "print(\"Y0: \", np.mean(Y_gbm_rl))\n",
    "print(\"mean cost (%): \", mPerc_gbm_rl)\n",
    "print(\"std cost (%): \", stdPerc_gbm_rl)"
   ]
  },
  {
   "attachments": {},
   "cell_type": "markdown",
   "metadata": {},
   "source": [
    "## SABR"
   ]
  },
  {
   "attachments": {},
   "cell_type": "markdown",
   "metadata": {},
   "source": [
    "Below code calculates mean, std cost and Y(0) for SABR data."
   ]
  },
  {
   "cell_type": "code",
   "execution_count": 93,
   "metadata": {},
   "outputs": [
    {
     "name": "stdout",
     "output_type": "stream",
     "text": [
      "sabr\n",
      "Y0:  235.67621433656325\n",
      "mean cost (%):  0.31010111663691714\n",
      "std cost (%):  0.19538298544289592\n",
      "sabr RL\n",
      "Y0:  290.2043459783315\n",
      "mean cost (%):  0.08075713995213711\n",
      "std cost (%):  0.4413163271878512\n"
     ]
    }
   ],
   "source": [
    "# get action array as holding gbm\n",
    "apl_sabr_rl, holding_lagged_rl = APL_process(S_sabr, p_sabr*notional, np.array(action_path), K, notional, kappa)\n",
    "Y_sabr_rl, mPerc_sabr_rl, stdPerc_sabr_rl = evaluate(apl_sabr_rl, p_sabr, c, notional) \n",
    "\n",
    "print(\"sabr\")\n",
    "print(\"Y0: \", np.mean(Y_sabr))\n",
    "print(\"mean cost (%): \", mPerc_sabr)\n",
    "print(\"std cost (%): \", stdPerc_sabr)\n",
    "\n",
    "print(\"sabr RL\")\n",
    "print(\"Y0: \", np.mean(Y_sabr_rl))\n",
    "print(\"mean cost (%): \", mPerc_sabr_rl)\n",
    "print(\"std cost (%): \", stdPerc_sabr_rl)"
   ]
  },
  {
   "attachments": {},
   "cell_type": "markdown",
   "metadata": {},
   "source": [
    "# Results"
   ]
  },
  {
   "attachments": {},
   "cell_type": "markdown",
   "metadata": {},
   "source": [
    "## Episode Total Reward Histograms\n",
    "\n",
    "Below plots histograms of classic delta and RL deep delta.\n",
    "To show that our results are better, RL deep delta histogram should shift to the right with rewards gathered tightly."
   ]
  },
  {
   "cell_type": "code",
   "execution_count": 112,
   "metadata": {},
   "outputs": [
    {
     "data": {
      "image/png": "[encoded data removed]",
      "text/plain": [
       "<Figure size 432x288 with 1 Axes>"
      ]
     },
     "metadata": {
      "needs_background": "light"
     },
     "output_type": "display_data"
    }
   ],
   "source": [
    "\n",
    "total_episode_rewards_gbm = APL_gbm[:,-1]\n",
    "total_episode_rewards_sabr = APL_sabr[:,-1]\n",
    "total_episode_rewards_sabr_bl = APL_sabr_bl[:,-1]\n",
    "\n",
    "total_episode_rewards_agent = np.sum(np.asarray(rewards_path), axis=1)\n",
    "\n",
    "bins=np.histogram(np.hstack((total_episode_rewards_gbm,total_episode_rewards_agent)), bins=40)[1]\n",
    "\n",
    "plt.hist(total_episode_rewards_agent ,bins,label='agent')\n",
    "plt.hist(total_episode_rewards_gbm ,bins,label='classical (GBM)', alpha=0.4)\n",
    "\n",
    "plt.xlabel('reward')\n",
    "plt.ylabel('')\n",
    "plt.legend()\n",
    "plt.show()\n",
    "\n"
   ]
  },
  {
   "cell_type": "code",
   "execution_count": 113,
   "metadata": {},
   "outputs": [
    {
     "data": {
      "image/png": "[encoded data removed]",
      "text/plain": [
       "<Figure size 432x288 with 1 Axes>"
      ]
     },
     "metadata": {
      "needs_background": "light"
     },
     "output_type": "display_data"
    }
   ],
   "source": [
    "\n",
    "total_episode_rewards_gbm = APL_gbm[:,-1]\n",
    "total_episode_rewards_sabr = APL_sabr[:,-1]\n",
    "total_episode_rewards_sabr_bl = APL_sabr_bl[:,-1]\n",
    "\n",
    "total_episode_rewards_agent = np.sum(np.asarray(rewards_path), axis=1)\n",
    "\n",
    "bins=np.histogram(np.hstack((total_episode_rewards_gbm,total_episode_rewards_agent)), bins=40)[1]\n",
    "\n",
    "plt.hist(total_episode_rewards_agent ,bins,label='agent')\n",
    "plt.hist(total_episode_rewards_sabr ,bins,label='classical (SABR)', alpha=0.4)\n",
    "\n",
    "plt.xlabel('reward')\n",
    "plt.ylabel('')\n",
    "plt.legend()\n",
    "plt.show()"
   ]
  },
  {
   "cell_type": "code",
   "execution_count": 114,
   "metadata": {},
   "outputs": [
    {
     "data": {
      "image/png": "[encoded data removed]",
      "text/plain": [
       "<Figure size 432x288 with 1 Axes>"
      ]
     },
     "metadata": {
      "needs_background": "light"
     },
     "output_type": "display_data"
    }
   ],
   "source": [
    "\n",
    "total_episode_rewards_gbm = APL_gbm[:,-1]\n",
    "total_episode_rewards_sabr = APL_sabr[:,-1]\n",
    "total_episode_rewards_sabr_bl = APL_sabr_bl[:,-1]\n",
    "\n",
    "total_episode_rewards_agent = np.sum(np.asarray(rewards_path), axis=1)\n",
    "\n",
    "bins=np.histogram(np.hstack((total_episode_rewards_gbm,total_episode_rewards_agent)), bins=40)[1]\n",
    "\n",
    "plt.hist(total_episode_rewards_agent ,bins,label='agent')\n",
    "plt.hist(total_episode_rewards_sabr_bl ,bins,label='classical (SABR BL)', alpha=0.4)\n",
    "\n",
    "plt.xlabel('reward')\n",
    "plt.ylabel('')\n",
    "plt.legend()\n",
    "plt.show()"
   ]
  },
  {
   "attachments": {},
   "cell_type": "markdown",
   "metadata": {},
   "source": [
    "## Action series Plot\n",
    "\n",
    "actions undertaken by agent during a specific path (identified by idx_)"
   ]
  },
  {
   "cell_type": "code",
   "execution_count": 109,
   "metadata": {},
   "outputs": [
    {
     "data": {
      "image/png": "[encoded data removed]",
      "text/plain": [
       "<Figure size 432x288 with 1 Axes>"
      ]
     },
     "metadata": {
      "needs_background": "light"
     },
     "output_type": "display_data"
    }
   ],
   "source": [
    "idx_ =  777 # idx_=777 to get same plot as in report\n",
    "plt.plot(np.array(action_path)[idx_], label='RL delta')\n",
    "plt.plot(holding_gbm[idx_], label='Classic delta')\n",
    "plt.xlabel('time')\n",
    "plt.ylabel('holding')\n",
    "plt.legend()\n",
    "plt.show()"
   ]
  }
 ],
 "metadata": {
  "kernelspec": {
   "display_name": "venv",
   "language": "python",
   "name": "python3"
  },
  "language_info": {
   "codemirror_mode": {
    "name": "ipython",
    "version": 3
   },
   "file_extension": ".py",
   "mimetype": "text/x-python",
   "name": "python",
   "nbconvert_exporter": "python",
   "pygments_lexer": "ipython3",
   "version": "3.9.13"
  },
  "orig_nbformat": 4,
  "vscode": {
   "interpreter": {
    "hash": "6aae9523cf00423b6a106a2cb59431dde3fed6cb65d1ed3fc973976972b471f3"
   }
  }
 },
 "nbformat": 4,
 "nbformat_minor": 2
}
