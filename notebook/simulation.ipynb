{
 "cells": [
  {
   "cell_type": "code",
   "execution_count": 2,
   "metadata": {},
   "outputs": [],
   "source": [
    "import numpy as np\n",
    "import matplotlib.pyplot as plt\n",
    "from scipy.stats import norm\n",
    "from tqdm import tqdm"
   ]
  },
  {
   "cell_type": "markdown",
   "metadata": {},
   "source": [
    "## Parameters"
   ]
  },
  {
   "cell_type": "code",
   "execution_count": 201,
   "metadata": {},
   "outputs": [],
   "source": [
    "T = 60 # length of simulation 20=1 month, 60 = three months\n",
    "S0 = 100 # starting price\n",
    "K = 100 # strike price\n",
    "sigma = 0.2 # volatility\n",
    "r = 0 # risk-free rate\n",
    "q = 0 # dividend yield\n",
    "mu = 0.05 # expected return on stock\n",
    "kappa = 0.01 # trading cost per unit traded\n",
    "dt = 1 # hedging time step\n",
    "notional = 1 # how many stocks the option is on\n",
    "rho = -0.4 # correlation of stochastic volatility process\n",
    "v = 0.6\n",
    "sigma0 = 0.2 # starting volatility\n",
    "c = 1.5 #standard deviation coefficient\n",
    "ds = 0.01\n",
    "\n",
    "n = 10000 # number of simulatied paths\n",
    "days = 250 # number of days in a year\n",
    "freq = 1 # trading frequency\n",
    "np.random.seed(100)"
   ]
  },
  {
   "cell_type": "markdown",
   "metadata": {},
   "source": [
    "## Simulation"
   ]
  },
  {
   "cell_type": "markdown",
   "metadata": {},
   "source": [
    "### GBM"
   ]
  },
  {
   "cell_type": "code",
   "execution_count": 113,
   "metadata": {},
   "outputs": [],
   "source": [
    "def CallBS(t, T, K, S, r, q, sigma): #[DONE]\n",
    "    '''\n",
    "    Calculates the price and the delta of a call option using the Black-Scholes formula.\n",
    "    Inputs:\n",
    "        t = current time\n",
    "        T = expiry time\n",
    "        K = strike price\n",
    "        S = current stock price\n",
    "        r = risk-free rate\n",
    "        q = dividend yield\n",
    "        sigma = volatility\n",
    "    Outputs:\n",
    "        P = option price\n",
    "        delta = option delta\n",
    "    '''\n",
    "    d1 = (np.log(S/K) + (r -q + 0.5*sigma**2)*(T-t)) / (sigma* np.sqrt(T-t))\n",
    "    d2 = d1 - (sigma* np.sqrt(T-t))\n",
    "    \n",
    "    # price\n",
    "    P = S * np.exp(-q*(T-t))* norm.cdf(d1) - np.exp(-r*(T-t)) * K * norm.cdf(d2) \n",
    "    \n",
    "    # delta\n",
    "    delta = np.exp(-q*(T-t))*norm.cdf(d1)\n",
    "\n",
    "    return P, delta"
   ]
  },
  {
   "cell_type": "code",
   "execution_count": 114,
   "metadata": {},
   "outputs": [],
   "source": [
    "def GBM_sim(n, T, dt, S0, mu, r, q, sigma, days, freq): #[DONE]\n",
    "    '''\n",
    "    Simulates the price of the underlying with a geometric brownian motion model (Black-Scholes model), from time 0 to final time T.\n",
    "    Inputs:\n",
    "        n =     [float] number of paths\n",
    "        T =     [float] time to expiry\n",
    "        dt =    [float] time step, function of frequency (e.g. freq*0.01)\n",
    "        S0 =    [float] current (starting) price\n",
    "        mu =    [float] return on asset\n",
    "        r =     [float] risk-free rate\n",
    "        q =     [float] dividend yield\n",
    "        sigma = [float] volatility\n",
    "        days =  [int] number of days in year\n",
    "        freq =  [float] trading frequency (e.g. 2 = every two days, 0.5 = every day twice)\n",
    "    Output:\n",
    "        S =     [array] simulated underlying price process\n",
    "    '''\n",
    "    T = int(T/freq) # adjust T to frequency\n",
    "    \n",
    "    # initialise variables\n",
    "    S = np.zeros((n, T))  # Underlying price path\n",
    "\n",
    "    S[:, 0] = S0\n",
    "    # generate price path based on random component and derive option price and delta   \n",
    "    for t in tqdm(range(1, T)):  # generate paths\n",
    "        dW = np.random.normal(0, 1, size=(n)) # standard normal random variable\n",
    "        S[:, t] = S[:, t-1] * np.exp((mu - 0.5*sigma**2)*dt/days + sigma*np.sqrt(dt/days)*dW) # BS Model of Stock Price \n",
    "\n",
    "    \n",
    "    return S"
   ]
  },
  {
   "cell_type": "markdown",
   "metadata": {},
   "source": [
    "### SABR"
   ]
  },
  {
   "cell_type": "code",
   "execution_count": 217,
   "metadata": {},
   "outputs": [],
   "source": [
    "def SABR_sim(n, days, freq, T, dt, S0, sigma0, v, rho, mu): #[DONE]\n",
    "    '''\n",
    "    Simulates the price of the underlying with a special case of the SABR model (beta = 1), from time 0 to final time T.\n",
    "    Calculates the option price and delta at all time steps using the Black-Scholes option pricing formula.\n",
    "    Inputs:\n",
    "        n =           [float] number of simulations\n",
    "        days =        [int] number of days in a year\n",
    "        freq =        [float] trading frequency\n",
    "        T =           [float] end time (expiry)\n",
    "        dt =          [float] time step\n",
    "        S0 =          [float] current (starting) price\n",
    "        sigma0 =     [float] initial volatility\n",
    "        v =           [float] volatility of underlying volatility\n",
    "        rho =         [float] correlation of the two Brownian Motions\n",
    "    Output:\n",
    "        S =           [array] simulated price process\n",
    "        sigma_stoch = [array] simulated stochastic volatility process\n",
    "    '''\n",
    "\n",
    "    T = int(T/freq) # adjust T to frequency\n",
    "\n",
    "    # initialise variables\n",
    "    sigma_stoch = np.zeros((n, T)) # Underlying stochastic volatility path\n",
    "    S = np.zeros((n, T))  # Underlying price path\n",
    "\n",
    "    sigma_stoch[:, 0] = sigma0\n",
    "    S[:, 0] = S0\n",
    " \n",
    "    # generate parameters for creating correlated random numbers\n",
    "    mean = np.array([0,0])\n",
    "    Corr = np.array([[1, rho], [rho, 1]]) # Correlation matrix\n",
    "    STD = np.diag([1,1]) # standard deviation vector\n",
    "    Cov = STD@Corr@STD # covariance matrix, input of multivariate_normal function\n",
    "\n",
    "\n",
    "    # generate price path based on random component and derive option price and delta\n",
    "    for t in tqdm(range(1,T)):  \n",
    "        dW = np.random.multivariate_normal(mean, Cov, size = n)  # correlated random BM increments\n",
    "        sigma_stoch[:, t] = sigma_stoch[:, t-1]*np.exp((-0.5*v**2)*dt/days + v*np.sqrt(dt/days)*dW[:, 0]) # GBM model of volatility\n",
    "        S[:, t] = S[:, t-1]*np.exp((mu - 0.5*sigma_stoch[:, t]**2)*dt/days + sigma_stoch[:, t]*np.sqrt(dt/days)*dW[:, 1]) # Black-Scholdes GBM model of underlying price\n",
    "\n",
    "\n",
    "    return S, sigma_stoch"
   ]
  },
  {
   "cell_type": "code",
   "execution_count": 218,
   "metadata": {},
   "outputs": [],
   "source": [
    "def SABR_IV(sigma_stoch, t, T, S, K, r, q, v, rho):\n",
    "    # future price\n",
    "    f = S * np.exp((r - q) * (T-t))\n",
    "    # at the money case\n",
    "    atm = sigma_stoch * (1+(T-t)*(rho * v * sigma_stoch/4  + v**2 * (2-3 * rho**2)/24))\n",
    "    xi = (v/ sigma_stoch) * np.log(f / K)\n",
    "    xi_func = np.log((np.sqrt(1 - 2 * rho * xi + xi**2) + xi - rho) / (1 - rho))\n",
    "\n",
    "    imp_vol = np.where(f == K, atm, atm * xi / xi_func)\n",
    "\n",
    "    return imp_vol"
   ]
  },
  {
   "cell_type": "code",
   "execution_count": 219,
   "metadata": {},
   "outputs": [],
   "source": [
    "def bartlett_delta(T, t, S, K, ivol, ds, rho, v):\n",
    "    # Find Bartlett's delta using numerical differentiation\n",
    "    d_volatility = ds * v * rho/S # following Bartlett (2006) Eq. 12 and using \n",
    "\n",
    "    i_sigma = SABR_IV(ivol, t, T, S, K, r, q, v, rho)\n",
    "    i_sigma_plus = SABR_IV(ivol + d_volatility, t, T, S + ds, K, r, q, v, rho)\n",
    "\n",
    "    p_base, _ = CallBS(t, T, K, S, r, q, i_sigma)\n",
    "    p_plus, _ = CallBS(t, T, K, S + ds, r, q, i_sigma_plus)\n",
    "\n",
    "    # finite differences\n",
    "    bartlett_delta = (p_plus-p_base) / ds\n",
    "\n",
    "    return bartlett_delta"
   ]
  },
  {
   "cell_type": "markdown",
   "metadata": {},
   "source": [
    "### Implementation"
   ]
  },
  {
   "cell_type": "code",
   "execution_count": 220,
   "metadata": {},
   "outputs": [],
   "source": [
    "def simulateGBM(n, T, dt, S0, mu, r, q, sigma, days, freq):\n",
    "    S_gbm = GBM_sim(n, T, dt, S0, mu, r, q, sigma, days, freq)\n",
    "    times = np.arange(0,T,freq)\n",
    "    p_gbm, d_gbm = CallBS(times/days, T/days, K, S_gbm, r, q, sigma)\n",
    "\n",
    "    return S_gbm, p_gbm, d_gbm"
   ]
  },
  {
   "cell_type": "code",
   "execution_count": 221,
   "metadata": {},
   "outputs": [],
   "source": [
    "def simulateSABR (n, T, dt, S0, mu, r, q, sigma, days, freq, rho, ds, v):\n",
    "    S_sabr, s_sabr = SABR_sim(n, days, freq, T, dt, S0, sigma, v, rho, mu)\n",
    "    times = np.arange(0,T,freq)\n",
    "    iv_SABR = SABR_IV(s_sabr, times/days, T/days, S_sabr, K, r, q, v, rho)\n",
    "    p_sabr, delta_sabr= CallBS(times/days, T/days, K, S_sabr, r, q, s_sabr)\n",
    "    bl_delta_sabr = bartlett_delta(T/days, times/days, S_sabr, K, iv_SABR, ds, rho, v)\n",
    "\n",
    "    return S_sabr, s_sabr, iv_SABR, p_sabr, delta_sabr, bl_delta_sabr\n",
    "\n",
    "    SABR_sim(n, days, freq, T, dt, S0, sigma0, v, rho, mu)"
   ]
  },
  {
   "cell_type": "code",
   "execution_count": 222,
   "metadata": {},
   "outputs": [
    {
     "name": "stderr",
     "output_type": "stream",
     "text": [
      "100%|██████████| 59/59 [00:00<00:00, 325.97it/s]\n",
      "/var/folders/sh/lyycqlc55nl0j57rq21p77r00000gq/T/ipykernel_5934/2359620205.py:9: RuntimeWarning: invalid value encountered in true_divide\n",
      "  imp_vol = np.where(f == K, atm, atm * xi / xi_func)\n"
     ]
    }
   ],
   "source": [
    "S_sabr_test, s_sabr_test, iv_sabr_test, p_sabr_test, delta_sabr_test, bl_delta_sabr_test = simulateSABR (\n",
    "    n, T, dt, S0, mu, r, q, sigma, days, freq, rho, ds, v)"
   ]
  },
  {
   "cell_type": "markdown",
   "metadata": {},
   "source": [
    "## OU Process"
   ]
  },
  {
   "cell_type": "code",
   "execution_count": 60,
   "metadata": {},
   "outputs": [],
   "source": [
    "def OU(X0, beta, alpha, sigmaOU, n, T, freq, days, dt):\n",
    "    '''Generates an Ornstein-Uhlenbeck simulation\n",
    "    Inputs:\n",
    "        dt = freq*0.01 for example or just freq*1\n",
    "    '''\n",
    "\n",
    "    T = int(T/freq)\n",
    "    X = np.zeros((n,T))\n",
    "    X[:,0] = X0\n",
    "    \n",
    "    for t in range(1,T):\n",
    "        dW = np.random.normal(0, 1, size=(n))\n",
    "        X[:,t] = (1-beta)*X[:,t-1] + alpha*beta + sigmaOU*np.sqrt(dt/days)*dW\n",
    "    \n",
    "    return X"
   ]
  },
  {
   "cell_type": "code",
   "execution_count": 74,
   "metadata": {},
   "outputs": [
    {
     "data": {
      "image/png": "[encoded data removed]",
      "text/plain": [
       "<Figure size 432x288 with 1 Axes>"
      ]
     },
     "metadata": {
      "needs_background": "light"
     },
     "output_type": "display_data"
    }
   ],
   "source": [
    "X0 = 1\n",
    "beta = 0.01\n",
    "alpha = 1\n",
    "sigmaOU = 0.5\n",
    "\n",
    "X = OU(X0, beta, alpha, sigmaOU, n, 1000, freq, days, dt)\n",
    "\n",
    "plt.plot(X[0,:].T)\n",
    "plt.hlines(alpha, 0, 1000)\n",
    "plt.show()"
   ]
  },
  {
   "cell_type": "markdown",
   "metadata": {},
   "source": [
    "## Classical Delta Hedging (Benchmark)"
   ]
  },
  {
   "cell_type": "code",
   "execution_count": 258,
   "metadata": {},
   "outputs": [],
   "source": [
    "def hedgingStrategy(method,notional, n, T, dt, S0, mu, r, q, sigma, days, freq, rho, ds, v):\n",
    "    '''\n",
    "    Implements delta hedging for GBM model and delta hedging and bartlett hedging for SABR model.\n",
    "    '''\n",
    "    if method == \"GBM\":\n",
    "        S_gbm, p_gbm, d_gbm = simulateGBM(n, T, dt, S0, mu, r, q, sigma, days, freq)\n",
    "        trading_gbm = np.diff(d_gbm, axis = 1)\n",
    "        trading_gbm = np.concatenate((d_gbm[:,0].reshape(-1,1), trading_gbm), axis=1)\n",
    "        trading_gbm *= notional\n",
    "        holding_gbm = d_gbm*notional\n",
    "\n",
    "        return S_gbm, p_gbm, d_gbm, trading_gbm, holding_gbm\n",
    "\n",
    "    if method == \"SABR\":\n",
    "        # sabr delta hedging\n",
    "        S_sabr, s_sabr, iv_SABR, p_sabr, delta_sabr, bl_delta_sabr = simulateSABR(n, T, dt, S0, mu, r, q, sigma, days, freq, rho, ds, v)\n",
    "        trading_sabr = np.diff(delta_sabr, axis = 1)\n",
    "        trading_sabr = np.concatenate((delta_sabr[:,0].reshape(-1,1), trading_sabr), axis=1)*notional\n",
    "        trading_sabr *= notional\n",
    "        holding_sabr = delta_sabr*notional\n",
    "\n",
    "        # sabr bartlett delta hedging\n",
    "        trading_sabr_bartlett = np.diff(bl_delta_sabr, axis = 1)\n",
    "        trading_sabr_bartlett = np.concatenate((bl_delta_sabr[:,0].reshape(-1,1), trading_sabr_bartlett), axis=1)\n",
    "        trading_sabr_bartlett *= notional\n",
    "        holding_sabr_bartlett = bl_delta_sabr*notional\n",
    "\n",
    "        return S_sabr, p_sabr, delta_sabr, bl_delta_sabr, trading_sabr, holding_sabr, trading_sabr_bartlett, holding_sabr_bartlett"
   ]
  },
  {
   "cell_type": "code",
   "execution_count": 351,
   "metadata": {},
   "outputs": [
    {
     "name": "stderr",
     "output_type": "stream",
     "text": [
      "100%|██████████| 59/59 [00:00<00:00, 1046.78it/s]\n",
      "100%|██████████| 59/59 [00:00<00:00, 290.44it/s]\n",
      "/var/folders/sh/lyycqlc55nl0j57rq21p77r00000gq/T/ipykernel_5934/2359620205.py:9: RuntimeWarning: invalid value encountered in true_divide\n",
      "  imp_vol = np.where(f == K, atm, atm * xi / xi_func)\n"
     ]
    }
   ],
   "source": [
    "S_gbm, p_gbm, d_gbm, trading_gbm, holding_gbm = hedgingStrategy(\"GBM\",notional, n, T, dt, S0, mu, r, q, sigma, days, freq, rho, ds, v)\n",
    "S_sabr, p_sabr, delta_sabr, bl_delta_sabr, trading_sabr, holding_sabr, trading_sabr_bartlett, holding_sabr_bartlett = hedgingStrategy(\n",
    "    \"SABR\",notional, n, T, dt, S0, mu, r, q, sigma, days, freq, rho, ds, v)"
   ]
  },
  {
   "cell_type": "markdown",
   "metadata": {},
   "source": [
    "## Evaluation"
   ]
  },
  {
   "cell_type": "code",
   "execution_count": 329,
   "metadata": {},
   "outputs": [],
   "source": [
    "def APL_process(S, p, holding):\n",
    "    '''\n",
    "    Calculates the Accounting PnL process for a portfolio of an option, the underlying, with proportional trading costs\n",
    "    Inputs:\n",
    "        S =              [array] underlying price process\n",
    "        p =              [array] option price process (adjusted for number of underlying)\n",
    "        holding =        [array] process of number of the underlying held at each period\n",
    "    Output:\n",
    "        APL =            [array] process of Accounting PnL\n",
    "        holding_lagged = [array] lagged process of number of underlying held at each period\n",
    "    '''\n",
    "    # create lagged variables for APL\n",
    "    p_lagged = np.roll(p, 1)\n",
    "    p_lagged[:, 0] = np.nan # the first element was p[-1], this has to be changed to NaN\n",
    "    S_lagged = np.roll(S, 1)\n",
    "    S_lagged[:, 0] = np.nan # the first element was S[-1], this has to be changed to NaN\n",
    "    holding_lagged = np.roll(holding, 1)\n",
    "    holding_lagged[:, 0] = np.nan # the first element was holding[-1], this has to be changed to NaN\n",
    "    \n",
    "\n",
    "\n",
    "    # accounting PnL\n",
    "    APL = p - p_lagged + holding_lagged*(S-S_lagged) - kappa* np.abs(S*(holding - holding_lagged)) \n",
    "\n",
    "    return APL, holding_lagged"
   ]
  },
  {
   "cell_type": "code",
   "execution_count": 331,
   "metadata": {},
   "outputs": [],
   "source": [
    "def hedgingCost(kappa, S, holding, holding_lagged):\n",
    "    '''\n",
    "    Calculates the total hedging cost from time t onward for all t\n",
    "    Inputs:\n",
    "        kappa =           [float] proportional hedging cost parameter\n",
    "        S =               [array] underlying price process\n",
    "        holding =         [array] process of amount of the underlying asset held at any given time t\n",
    "        holding_lagged =  [array] process of amount of the underlying asset held at any given time t-1\n",
    "    Output:\n",
    "        C =               [array] total hedging cost from time t onward\n",
    "    '''\n",
    "    # Hedging cost at each period\n",
    "    hedging_cost = kappa* np.abs(S*(holding - holding_lagged))\n",
    "\n",
    "    # The reverse cumulative sum represents the remaining total hedging cost from time t onwards\n",
    "    # The remaining total hedging cost C_t, is calculated at the beginning of each period t (before hedging transaction at time t is made)\n",
    "    #C = np.nancumsum(hedging_cost[::-1])[::-1] \n",
    "\n",
    "    return hedging_cost"
   ]
  },
  {
   "cell_type": "code",
   "execution_count": 344,
   "metadata": {},
   "outputs": [],
   "source": [
    "def objective(C, c):\n",
    "    '''\n",
    "    Calculates the loss from time t (present) to time T (expiry).\n",
    "    Input:\n",
    "        C = [array] total hedging cost\n",
    "        c = [float] weight of standard deviation\n",
    "    Output:\n",
    "        Y = [array] loss function over time\n",
    "    '''\n",
    "    Y = np.zeros(C.shape)\n",
    "\n",
    "    for t in range(C.shape[1]):\n",
    "        Y[:,t] = \\\n",
    "            np.nanmean(C[:, :(t+1)], axis = 1) + \\\n",
    "            c*np.nanstd(C[:, :(t+1)], axis = 1)\n",
    "\n",
    "    return Y"
   ]
  },
  {
   "cell_type": "markdown",
   "metadata": {},
   "source": [
    "### Implementation"
   ]
  },
  {
   "cell_type": "code",
   "execution_count": 352,
   "metadata": {},
   "outputs": [
    {
     "name": "stderr",
     "output_type": "stream",
     "text": [
      "/var/folders/sh/lyycqlc55nl0j57rq21p77r00000gq/T/ipykernel_5934/1228649935.py:14: RuntimeWarning: Mean of empty slice\n",
      "  np.nanmean(C[:, :(t+1)], axis = 1) + \\\n"
     ]
    },
    {
     "name": "stdout",
     "output_type": "stream",
     "text": [
      "0.10155949128222713\n",
      "0.0348503802683715\n"
     ]
    }
   ],
   "source": [
    "# GBM delta\n",
    "APL_gbm, holding_lagged_gbm = APL_process(S_gbm, p_gbm, holding_gbm)\n",
    "hedging_cost_gbm = hedgingCost(kappa, S_gbm, holding_gbm, holding_lagged_gbm)\n",
    "Y_gbm = objective(hedging_cost_gbm, c)\n",
    "print(np.mean(Y_gbm[:,-1]))\n",
    "print(np.std(Y_gbm[:,-1]))"
   ]
  },
  {
   "cell_type": "code",
   "execution_count": 355,
   "metadata": {},
   "outputs": [
    {
     "name": "stderr",
     "output_type": "stream",
     "text": [
      "/var/folders/sh/lyycqlc55nl0j57rq21p77r00000gq/T/ipykernel_5934/1228649935.py:14: RuntimeWarning: Mean of empty slice\n",
      "  np.nanmean(C[:, :(t+1)], axis = 1) + \\\n",
      "/Users/Marcell/Applications/anaconda3/lib/python3.9/site-packages/numpy/lib/nanfunctions.py:1664: RuntimeWarning: Degrees of freedom <= 0 for slice.\n",
      "  var = nanvar(a, axis=axis, dtype=dtype, out=out, ddof=ddof,\n"
     ]
    },
    {
     "name": "stdout",
     "output_type": "stream",
     "text": [
      "0.10049817975104944\n",
      "0.03470000411911707\n"
     ]
    }
   ],
   "source": [
    "# SABR delta\n",
    "APL_sabr, holding_lagged_sabr = APL_process(S_sabr, p_sabr, holding_sabr)\n",
    "hedging_cost_sabr = hedgingCost(kappa, S_sabr, holding_sabr, holding_lagged_sabr)\n",
    "Y_sabr = objective(hedging_cost_sabr, c)\n",
    "print(np.mean(Y_sabr[:,-1]))\n",
    "print(np.std(Y_sabr[:,-1]))"
   ]
  },
  {
   "cell_type": "code",
   "execution_count": 356,
   "metadata": {},
   "outputs": [
    {
     "name": "stderr",
     "output_type": "stream",
     "text": [
      "/var/folders/sh/lyycqlc55nl0j57rq21p77r00000gq/T/ipykernel_5934/1228649935.py:14: RuntimeWarning: Mean of empty slice\n",
      "  np.nanmean(C[:, :(t+1)], axis = 1) + \\\n",
      "/Users/Marcell/Applications/anaconda3/lib/python3.9/site-packages/numpy/lib/nanfunctions.py:1664: RuntimeWarning: Degrees of freedom <= 0 for slice.\n",
      "  var = nanvar(a, axis=axis, dtype=dtype, out=out, ddof=ddof,\n"
     ]
    },
    {
     "name": "stdout",
     "output_type": "stream",
     "text": [
      "0.10072801502250124\n",
      "0.034754623093770545\n"
     ]
    }
   ],
   "source": [
    "# SABR Bartlett\n",
    "APL_sabr_bl, holding_lagged_sabr_bl = APL_process(S_sabr, p_sabr, holding_sabr_bartlett)\n",
    "hedging_cost_sabr_bl = hedgingCost(kappa, S_sabr, holding_sabr_bartlett, holding_lagged_sabr_bl)\n",
    "Y_sabr_bl = objective(hedging_cost_sabr_bl, c)\n",
    "print(np.mean(Y_sabr_bl[:,-1]))\n",
    "print(np.std(Y_sabr_bl[:,-1]))"
   ]
  },
  {
   "cell_type": "markdown",
   "metadata": {},
   "source": [
    "## Save data"
   ]
  },
  {
   "cell_type": "code",
   "execution_count": null,
   "metadata": {},
   "outputs": [
    {
     "data": {
      "text/plain": [
       "\"\\n# define data\\n# save to csv file\\nnp.savetxt('asset_price_GBM_5_sim.csv', S_gbm, delimiter=',')\\nnp.savetxt('option_price_GBM_5_sim.csv', p_gbm, delimiter=',')\\nnp.savetxt('asset_price_SABR_5_sim.csv', S_sabr, delimiter=',')\\nnp.savetxt('option_price_SABR_5_sim.csv', p_sabr, delimiter=',')\\n\""
      ]
     },
     "metadata": {},
     "output_type": "display_data"
    }
   ],
   "source": [
    "'''\n",
    "# define data\n",
    "# save to csv file\n",
    "np.savetxt('asset_price_GBM_5_sim.csv', S_gbm, delimiter=',')\n",
    "np.savetxt('option_price_GBM_5_sim.csv', p_gbm, delimiter=',')\n",
    "np.savetxt('asset_price_SABR_5_sim.csv', S_sabr, delimiter=',')\n",
    "np.savetxt('option_price_SABR_5_sim.csv', p_sabr, delimiter=',')\n",
    "'''"
   ]
  },
  {
   "cell_type": "code",
   "execution_count": null,
   "metadata": {},
   "outputs": [
    {
     "data": {
      "text/plain": [
       "'\\nS_mixed = np.vstack((S_gbm, S_sabr))\\np_mixed = np.vstack((p_gbm, p_sabr))\\nprint(S_mixed.shape)\\nprint(p_mixed.shape)\\nnp.savetxt(\"asset_price_mixed_5_sim.csv\", S_mixed, delimiter=\",\")\\nnp.savetxt(\"option_price_mixed_5_sim.csv\", p_mixed, delimiter=\",\")\\n'"
      ]
     },
     "metadata": {},
     "output_type": "display_data"
    }
   ],
   "source": [
    "'''\n",
    "S_mixed = np.vstack((S_gbm, S_sabr))\n",
    "p_mixed = np.vstack((p_gbm, p_sabr))\n",
    "print(S_mixed.shape)\n",
    "print(p_mixed.shape)\n",
    "np.savetxt(\"asset_price_mixed_5_sim.csv\", S_mixed, delimiter=\",\")\n",
    "np.savetxt(\"option_price_mixed_5_sim.csv\", p_mixed, delimiter=\",\")\n",
    "'''"
   ]
  }
 ],
 "metadata": {
  "kernelspec": {
   "display_name": "Python 3.9.7 ('base')",
   "language": "python",
   "name": "python3"
  },
  "language_info": {
   "codemirror_mode": {
    "name": "ipython",
    "version": 3
   },
   "file_extension": ".py",
   "mimetype": "text/x-python",
   "name": "python",
   "nbconvert_exporter": "python",
   "pygments_lexer": "ipython3",
   "version": "3.9.7"
  },
  "orig_nbformat": 4,
  "vscode": {
   "interpreter": {
    "hash": "e43df66ad0f0787d4205e31aaf601eb29cbf46dc26a30430695488c8c4e2fdd0"
   }
  }
 },
 "nbformat": 4,
 "nbformat_minor": 2
}
