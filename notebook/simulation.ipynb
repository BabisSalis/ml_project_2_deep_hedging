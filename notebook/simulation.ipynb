{
 "cells": [
  {
   "cell_type": "code",
   "execution_count": 3,
   "metadata": {},
   "outputs": [],
   "source": [
    "import numpy as np\n",
    "import matplotlib.pyplot as plt\n",
    "from scipy.stats import norm\n",
    "from tqdm import tqdm"
   ]
  },
  {
   "cell_type": "markdown",
   "metadata": {},
   "source": [
    "## Parameters"
   ]
  },
  {
   "cell_type": "code",
   "execution_count": 4,
   "metadata": {},
   "outputs": [],
   "source": [
    "T = 60 # length of simulation 20=1 month, 60 = three months\n",
    "S0 = 100 # starting price\n",
    "K = 100 # strike price\n",
    "sigma = 0.2 # volatility\n",
    "r = 0 # risk-free rate\n",
    "q = 0 # dividend yield\n",
    "mu = 0.05 # expected return on stock\n",
    "kappa = 0.01 # trading cost per unit traded\n",
    "dt = 1 # hedging time step\n",
    "notional = 100 # how many stocks the option is on\n",
    "rho = -0.4 # correlation of stochastic volatility process\n",
    "v = 0.6\n",
    "sigma0 = 0.2 # starting volatility\n",
    "c = 1.5 #standard deviation coefficient\n",
    "ds = 0.01\n",
    "\n",
    "n = 25000 # number of simulatied paths\n",
    "days = 250 # number of days in a year\n",
    "freq = 1 # trading frequency\n",
    "np.random.seed(1)"
   ]
  },
  {
   "cell_type": "markdown",
   "metadata": {},
   "source": [
    "## Simulation"
   ]
  },
  {
   "cell_type": "markdown",
   "metadata": {},
   "source": [
    "### GBM"
   ]
  },
  {
   "cell_type": "code",
   "execution_count": null,
   "metadata": {},
   "outputs": [],
   "source": [
    "def CallBS(t, T, K, S, r, q, sigma):\n",
    "    '''\n",
    "    Calculates the price and the delta of a call option using the Black-Scholes formula.\n",
    "    Inputs:\n",
    "        t = current time\n",
    "        T = expiry time\n",
    "        K = strike price\n",
    "        S = current stock price\n",
    "        r = risk-free rate\n",
    "        q = dividend yield\n",
    "        sigma = volatility\n",
    "    Outputs:\n",
    "        P = option price\n",
    "        delta = option delta\n",
    "    '''\n",
    "    d1 = (np.log(S/K) + (r -q + 0.5*sigma**2)*(T-t)) / (sigma* np.sqrt(T-t))\n",
    "    d2 = d1 - (sigma* np.sqrt(T-t))\n",
    "    \n",
    "    # price\n",
    "    P = S * np.exp(-q*(T-t))* norm.cdf(d1) - np.exp(-r*(T-t)) * K * norm.cdf(d2) \n",
    "    \n",
    "    # delta\n",
    "    delta = np.exp(-q*(T-t))*norm.cdf(d1)\n",
    "\n",
    "    return P, delta"
   ]
  },
  {
   "cell_type": "code",
   "execution_count": null,
   "metadata": {},
   "outputs": [],
   "source": [
    "def GBM_sim(n, T, dt, S0, mu, sigma, days, freq):\n",
    "    '''\n",
    "    Simulates the price of the underlying with a geometric brownian motion model (Black-Scholes model), from time 0 to final time T.\n",
    "    Inputs:\n",
    "        n =     [float] number of paths\n",
    "        T =     [float] time to expiry\n",
    "        dt =    [float] time step, function of frequency (e.g. freq*0.01)\n",
    "        S0 =    [float] current (starting) price\n",
    "        mu =    [float] return on asset\n",
    "        r =     [float] risk-free rate\n",
    "        q =     [float] dividend yield\n",
    "        sigma = [float] volatility\n",
    "        days =  [int] number of days in year\n",
    "        freq =  [float] trading frequency (e.g. 2 = every two days, 0.5 = every day twice)\n",
    "    Output:\n",
    "        S =     [array] simulated underlying price process\n",
    "    '''\n",
    "    T = int(T/freq) # adjust T to frequency\n",
    "    \n",
    "    # initialise variables\n",
    "    S = np.zeros((n, T))  # Underlying price path\n",
    "\n",
    "    S[:, 0] = S0\n",
    "    # generate price path based on random component and derive option price and delta   \n",
    "    for t in tqdm(range(1, T)):  # generate paths\n",
    "        dW = np.random.normal(0, 1, size=(n)) # standard normal random variable\n",
    "        S[:, t] = S[:, t-1] * np.exp((mu - 0.5*sigma**2)*dt/days + sigma*np.sqrt(dt/days)*dW) # BS Model of Stock Price \n",
    "\n",
    "    \n",
    "    return S"
   ]
  },
  {
   "cell_type": "markdown",
   "metadata": {},
   "source": [
    "### SABR"
   ]
  },
  {
   "cell_type": "code",
   "execution_count": null,
   "metadata": {},
   "outputs": [],
   "source": [
    "def SABR_sim(n, days, freq, T, dt, S0, sigma0, v, rho, mu):\n",
    "    '''\n",
    "    Simulates the price of the underlying with a special case of the SABR model (beta = 1), from time 0 to final time T.\n",
    "    Calculates the option price and delta at all time steps using the Black-Scholes option pricing formula.\n",
    "    Inputs:\n",
    "        n =           [float] number of simulations\n",
    "        days =        [int] number of days in a year\n",
    "        freq =        [float] trading frequency\n",
    "        T =           [float] end time (expiry)\n",
    "        dt =          [float] time step\n",
    "        S0 =          [float] current (starting) price\n",
    "        sigma0 =     [float] initial volatility\n",
    "        v =           [float] volatility of underlying volatility\n",
    "        rho =         [float] correlation of the two Brownian Motions\n",
    "    Output:\n",
    "        S =           [array] simulated price process\n",
    "        sigma_stoch = [array] simulated stochastic volatility process\n",
    "    '''\n",
    "\n",
    "    T = int(T/freq) # adjust T to frequency\n",
    "\n",
    "    # initialise variables\n",
    "    sigma_stoch = np.zeros((n, T)) # Underlying stochastic volatility path\n",
    "    S = np.zeros((n, T))  # Underlying price path\n",
    "\n",
    "    sigma_stoch[:, 0] = sigma0\n",
    "    S[:, 0] = S0\n",
    " \n",
    "    # generate parameters for creating correlated random numbers\n",
    "    mean = np.array([0,0])\n",
    "    Corr = np.array([[1, rho], [rho, 1]]) # Correlation matrix\n",
    "    STD = np.diag([1,1]) # standard deviation vector\n",
    "    Cov = STD@Corr@STD # covariance matrix, input of multivariate_normal function\n",
    "\n",
    "\n",
    "    # generate price path based on random component and derive option price and delta\n",
    "    for t in tqdm(range(1,T)):  \n",
    "        dW = np.random.multivariate_normal(mean, Cov, size = n)  # correlated random BM increments\n",
    "        sigma_stoch[:, t] = sigma_stoch[:, t-1]*np.exp((-0.5*v**2)*dt/days + v*np.sqrt(dt/days)*dW[:, 0]) # GBM model of volatility\n",
    "        S[:, t] = S[:, t-1]*np.exp((mu - 0.5*sigma_stoch[:, t]**2)*dt/days + sigma_stoch[:, t]*np.sqrt(dt/days)*dW[:, 1]) # Black-Scholdes GBM model of underlying price\n",
    "\n",
    "\n",
    "    return S, sigma_stoch"
   ]
  },
  {
   "cell_type": "code",
   "execution_count": null,
   "metadata": {},
   "outputs": [],
   "source": [
    "def SABR_IV(sigma_stoch, t, T, S, K, r, q, v, rho):\n",
    "    # future price\n",
    "    f = S * np.exp((r - q) * (T-t))\n",
    "    # at the money case\n",
    "    atm = sigma_stoch * (1+(T-t)*(rho * v * sigma_stoch/4  + v**2 * (2-3 * rho**2)/24))\n",
    "    xi = (v/ sigma_stoch) * np.log(f / K)\n",
    "    xi_func = np.log((np.sqrt(1 - 2 * rho * xi + xi**2) + xi - rho) / (1 - rho))\n",
    "\n",
    "    imp_vol = np.where(f == K, atm, atm * xi / xi_func)\n",
    "\n",
    "    return imp_vol"
   ]
  },
  {
   "cell_type": "code",
   "execution_count": null,
   "metadata": {},
   "outputs": [],
   "source": [
    "def bartlett_delta(T, t, S, K, ivol, ds, r, q, v, rho):\n",
    "    # Find Bartlett's delta using numerical differentiation\n",
    "    d_volatility = ds * v * rho/S # following Bartlett (2006) Eq. 12 and using \n",
    "\n",
    "    i_sigma = SABR_IV(ivol, t, T, S, K, r, q, v, rho)\n",
    "    i_sigma_plus = SABR_IV(ivol + d_volatility, t, T, S + ds, K, r, q, v, rho)\n",
    "\n",
    "    p_base, _ = CallBS(t, T, K, S, r, q, i_sigma)\n",
    "    p_plus, _ = CallBS(t, T, K, S + ds, r, q, i_sigma_plus)\n",
    "\n",
    "    # finite differences\n",
    "    bartlett_delta = (p_plus-p_base) / ds\n",
    "\n",
    "    return bartlett_delta"
   ]
  },
  {
   "cell_type": "markdown",
   "metadata": {},
   "source": [
    "### Implementation"
   ]
  },
  {
   "cell_type": "code",
   "execution_count": null,
   "metadata": {},
   "outputs": [],
   "source": [
    "def simulateGBM(n, T, dt, S0, mu, r, q, sigma, days, freq, K):\n",
    "    S_gbm = GBM_sim(n, T, dt, S0, mu, sigma, days, freq)\n",
    "    times = np.arange(0,T,freq)\n",
    "    p_gbm, d_gbm = CallBS(times/days, T/days, K, S_gbm, r, q, sigma)\n",
    "\n",
    "    return S_gbm, p_gbm, d_gbm"
   ]
  },
  {
   "cell_type": "code",
   "execution_count": null,
   "metadata": {},
   "outputs": [],
   "source": [
    "def simulateSABR (n, T, dt, S0, mu, r, q, sigma, days, freq, rho, ds, v, K):\n",
    "    S_sabr, s_sabr = SABR_sim(n, days, freq, T, dt, S0, sigma, v, rho, mu)\n",
    "    times = np.arange(0,T,freq)\n",
    "    iv_SABR = SABR_IV(s_sabr, times/days, T/days, S_sabr, K, r, q, v, rho)\n",
    "    p_sabr, delta_sabr= CallBS(times/days, T/days, K, S_sabr, r, q, s_sabr)\n",
    "    bl_delta_sabr = bartlett_delta(T/days, times/days, S_sabr, K, iv_SABR, ds, r, q, v, rho)\n",
    "\n",
    "    return S_sabr, s_sabr, iv_SABR, p_sabr, delta_sabr, bl_delta_sabr"
   ]
  },
  {
   "cell_type": "code",
   "execution_count": null,
   "metadata": {},
   "outputs": [],
   "source": [
    "S_gbm, p_gbm, d_gbm = simulateGBM(n, T, dt, S0, mu, r, q, sigma, days, freq, K)\n",
    "\n",
    "S_sabr, s_sabr, iv_sabr, p_sabr, delta_sabr, bl_delta_sabr = simulateSABR (\n",
    "    n, T, dt, S0, mu, r, q, sigma, days, freq, rho, ds, v, K)"
   ]
  },
  {
   "cell_type": "markdown",
   "metadata": {},
   "source": [
    "## OU Process"
   ]
  },
  {
   "cell_type": "code",
   "execution_count": null,
   "metadata": {},
   "outputs": [],
   "source": [
    "def OU(X0, beta, alpha, sigmaOU, n, T, freq, days, dt):\n",
    "    '''Generates an Ornstein-Uhlenbeck simulation\n",
    "    Inputs:\n",
    "        dt = freq*0.01 for example or just freq*1\n",
    "    '''\n",
    "\n",
    "    T = int(T/freq)\n",
    "    X = np.zeros((n,T))\n",
    "    X[:,0] = X0\n",
    "    \n",
    "    for t in range(1,T):\n",
    "        dW = np.random.normal(0, 1, size=(n))\n",
    "        X[:,t] = (1-beta)*X[:,t-1] + alpha*beta + sigmaOU*np.sqrt(dt/days)*dW\n",
    "    \n",
    "    return X"
   ]
  },
  {
   "cell_type": "code",
   "execution_count": null,
   "metadata": {},
   "outputs": [],
   "source": [
    "X0 = 1\n",
    "beta = 0.01\n",
    "alpha = 1\n",
    "sigmaOU = 0.5\n",
    "\n",
    "X = OU(X0, beta, alpha, sigmaOU, n, 1000, freq, days, dt)\n",
    "\n",
    "plt.plot(X[0,:].T)\n",
    "plt.hlines(alpha, 0, 1000)\n",
    "plt.show()"
   ]
  },
  {
   "cell_type": "markdown",
   "metadata": {},
   "source": [
    "## Classical Delta Hedging (Benchmark)"
   ]
  },
  {
   "cell_type": "code",
   "execution_count": null,
   "metadata": {},
   "outputs": [],
   "source": [
    "def hedgingStrategy(method,notional, delta, bl_delta):\n",
    "    '''\n",
    "    Implements delta hedging for GBM model and delta hedging and bartlett hedging for SABR model.\n",
    "    Inputs: \n",
    "        method:     [string] simulation method, \"GBM\" or \"SABR\"\n",
    "        notional:   [int] number of stocks the option is written on\n",
    "        delta:      [array] time series of the option BS delta until maturity (calculated from simulation)\n",
    "        bl_delta:   [array] time series of the option Bartlett - delta until maturity (calculated from simulation) only in SABR case\n",
    "    Outputs:\n",
    "        trading:    [array] time series of trading decisions under BS delta hedging\n",
    "        holding:    [array] time series of holding level of the underlying, under BS delta hedging\n",
    "        trading_bl: [array] time series of trading decisions under Bartlett delta hedging\n",
    "        holding_bl: [array] time series of holding level of the underlying, under Bartlett delta hedging\n",
    "\n",
    "    '''\n",
    "    trading = np.diff(delta, axis = 1)\n",
    "    trading = np.concatenate((delta[:,0].reshape(-1,1), trading), axis=1)\n",
    "    trading *= notional\n",
    "    holding = delta*notional\n",
    "\n",
    "\n",
    "    if method == \"SABR\":\n",
    "        # sabr bartlett delta hedging\n",
    "        trading_bl = np.diff(bl_delta, axis = 1)\n",
    "        trading_bl = np.concatenate((bl_delta[:,0].reshape(-1,1), trading_bl), axis=1)\n",
    "        trading_bl *= notional\n",
    "        holding_bl = bl_delta*notional\n",
    "\n",
    "        return trading, holding, trading_bl, holding_bl\n",
    "\n",
    "    else:\n",
    "        return trading, holding"
   ]
  },
  {
   "cell_type": "markdown",
   "metadata": {},
   "source": [
    "### Implementation"
   ]
  },
  {
   "cell_type": "code",
   "execution_count": null,
   "metadata": {},
   "outputs": [],
   "source": [
    "trading_gbm, holding_gbm = hedgingStrategy(\"GBM\",notional, d_gbm, 0)"
   ]
  },
  {
   "cell_type": "code",
   "execution_count": null,
   "metadata": {},
   "outputs": [],
   "source": [
    "trading_sabr, holding_sabr, bl_trading_sabr, bl_holding_sabr = hedgingStrategy(\"SABR\",notional, delta_sabr, bl_delta_sabr)"
   ]
  },
  {
   "cell_type": "markdown",
   "metadata": {},
   "source": [
    "## Evaluation"
   ]
  },
  {
   "cell_type": "code",
   "execution_count": null,
   "metadata": {},
   "outputs": [],
   "source": [
    "def APL_process(S, p, holding, K, notional):\n",
    "    '''\n",
    "    Calculates the Accounting PnL process for a portfolio of a short call option, the underlying, with proportional trading costs.\n",
    "    Inputs:\n",
    "        S =              [array] underlying price process\n",
    "        p =              [array] option price process (adjusted for number of underlying)\n",
    "        holding =        [array] process of number of the underlying held at each period\n",
    "    Output:\n",
    "        APL =            [array] process of Accounting PnL\n",
    "        holding_lagged = [array] lagged process of number of underlying held at each period\n",
    "    '''\n",
    "    # create lagged variables for APL\n",
    "    p_lagged = np.roll(p, 1)\n",
    "    p_lagged[:, 0] = np.nan # the first element was p[-1], this has to be changed to NaN\n",
    "    S_lagged = np.roll(S, 1)\n",
    "    S_lagged[:, 0] = np.nan # the first element was S[-1], this has to be changed to NaN\n",
    "    holding_lagged = np.roll(holding, 1)\n",
    "    holding_lagged[:, 0] = np.nan # the first element was holding[-1], this has to be changed to NaN\n",
    "\n",
    "    # accounting PnL\n",
    "    APL = -(p - p_lagged) \\\n",
    "        + holding_lagged*(S-S_lagged) \\\n",
    "            - kappa* np.abs(S*(holding - holding_lagged))\n",
    "    print(APL[:,-1])\n",
    "    \n",
    "    APL[:, -1] = -(np.maximum((S[:,-1] - K), 0)*notional - p_lagged[:,-1]) \\\n",
    "                    + holding_lagged[:,-1]*(S[:,-1]-S_lagged[:,-1]) \\\n",
    "                        - kappa* np.abs(S[:,-1]*(holding[:,-1] - holding_lagged[:,-1]))\n",
    "\n",
    "    print(APL[:,-1])\n",
    "\n",
    "    print(-(np.maximum((S[:,-1] - K), 0) - p_lagged[:,-1]))\n",
    "\n",
    "    return APL, holding_lagged"
   ]
  },
  {
   "cell_type": "code",
   "execution_count": null,
   "metadata": {},
   "outputs": [],
   "source": [
    "def hedgingCost(kappa, S, holding, holding_lagged):\n",
    "    '''\n",
    "    Calculates the total hedging cost from time t onward for all t\n",
    "    Inputs:\n",
    "        kappa =           [float] proportional hedging cost parameter\n",
    "        S =               [array] underlying price process\n",
    "        holding =         [array] process of amount of the underlying asset held at any given time t\n",
    "        holding_lagged =  [array] process of amount of the underlying asset held at any given time t-1\n",
    "    Output:\n",
    "        C =               [array] total hedging cost from time t onward\n",
    "    '''\n",
    "    # Hedging cost at each period\n",
    "    C = kappa* np.abs(S*(holding - holding_lagged))\n",
    "\n",
    "    return C"
   ]
  },
  {
   "cell_type": "code",
   "execution_count": null,
   "metadata": {},
   "outputs": [],
   "source": [
    "def objectiveTotalCost(C, c):\n",
    "    '''\n",
    "    Calculates the loss from time t (present) to time T (expiry).\n",
    "    Input:\n",
    "        C = [array] total hedging cost\n",
    "        c = [float] weight of standard deviation\n",
    "    Output:\n",
    "        Y = [array] loss function over time\n",
    "    '''\n",
    "    Y = np.zeros(C.shape)\n",
    "\n",
    "    for t in range(C.shape[1]):\n",
    "        Y[:,t] = \\\n",
    "            np.nanmean(C[:, :(t+1)], axis = 1) + \\\n",
    "            c*np.nanstd(C[:, :(t+1)], axis = 1)\n",
    "\n",
    "    return Y"
   ]
  },
  {
   "cell_type": "code",
   "execution_count": null,
   "metadata": {},
   "outputs": [],
   "source": [
    "def objectiveHedgingCost(C, c):\n",
    "    '''\n",
    "    Calculates the loss from time t (present) to time T (expiry).\n",
    "    Input:\n",
    "        C = [array] total hedging cost\n",
    "        c = [float] weight of standard deviation\n",
    "    Output:\n",
    "        Y = [array] loss function over time\n",
    "    '''\n",
    "    Y = np.zeros(C.shape)\n",
    "\n",
    "    for t in range(C.shape[1]):\n",
    "        Y[:,t] = \\\n",
    "            np.nanmean(C[:, :(t+1)], axis = 1) + \\\n",
    "            c*np.nanstd(C[:, :(t+1)], axis = 1)\n",
    "\n",
    "    return Y"
   ]
  },
  {
   "cell_type": "markdown",
   "metadata": {},
   "source": [
    "### Implementation"
   ]
  },
  {
   "cell_type": "code",
   "execution_count": null,
   "metadata": {},
   "outputs": [],
   "source": [
    "-(np.maximum((S_gbm[:,-1] - K), 0) - notional*p_gbm[:,-2])"
   ]
  },
  {
   "cell_type": "code",
   "execution_count": null,
   "metadata": {},
   "outputs": [],
   "source": [
    "APL_gbm, holding_lagged_gbm = APL_process(S_gbm, p_gbm*notional, holding_gbm, K, notional)"
   ]
  },
  {
   "cell_type": "code",
   "execution_count": null,
   "metadata": {},
   "outputs": [],
   "source": [
    "#plt.plot(p_gbm[1000]*notional, label = \"option price\")\n",
    "#plt.plot()\n",
    "plt.plot(APL_gbm[:100].T)\n",
    "plt.show()"
   ]
  },
  {
   "cell_type": "code",
   "execution_count": null,
   "metadata": {},
   "outputs": [],
   "source": [
    "meanCost = -np.nanmean(APL_gbm, axis = 1)\n",
    "stdCost = np.nanstd(APL_gbm, axis = 1)\n",
    "Y = meanCost + c*stdCost"
   ]
  },
  {
   "cell_type": "code",
   "execution_count": null,
   "metadata": {},
   "outputs": [],
   "source": [
    "stdCost"
   ]
  },
  {
   "cell_type": "code",
   "execution_count": null,
   "metadata": {},
   "outputs": [],
   "source": [
    "print(np.mean(meanCost/p_gbm[:,0]))\n",
    "print(np.mean(stdCost/p_gbm[:,0]))"
   ]
  },
  {
   "cell_type": "code",
   "execution_count": null,
   "metadata": {},
   "outputs": [],
   "source": [
    "PercentageMeanRatio = np.mean(meanCost/(notional*p_gbm[:,0]))\n",
    "PercentageSTDRatio = np.mean(stdCost/(notional*p_gbm[:,0]))\n"
   ]
  },
  {
   "cell_type": "code",
   "execution_count": null,
   "metadata": {},
   "outputs": [],
   "source": [
    "print(PercentageMeanRatio)\n",
    "print(PercentageSTDRatio)"
   ]
  },
  {
   "cell_type": "code",
   "execution_count": null,
   "metadata": {},
   "outputs": [],
   "source": [
    "# GBM delta\n",
    "APL_gbm, holding_lagged_gbm = APL_process(S_gbm, p_gbm, holding_gbm)\n",
    "hedging_cost_gbm = hedgingCost(kappa, S_gbm, holding_gbm, holding_lagged_gbm)\n",
    "Y_gbm = objective(hedging_cost_gbm, c)\n",
    "print(np.mean(Y_gbm[:,-1]))\n",
    "print(np.std(Y_gbm[:,-1]))\n",
    "#plt.plot(Y_gbm.T)"
   ]
  },
  {
   "cell_type": "code",
   "execution_count": null,
   "metadata": {},
   "outputs": [],
   "source": [
    "# SABR delta\n",
    "APL_sabr, holding_lagged_sabr = APL_process(S_sabr_test, p_sabr_test, holding_sabr)\n",
    "hedging_cost_sabr = hedgingCost(kappa, S_sabr_test, holding_sabr, holding_lagged_sabr)\n",
    "Y_sabr = objective(hedging_cost_sabr, c)\n",
    "print(np.mean(Y_sabr[:,-1]))\n",
    "print(np.std(Y_sabr[:,-1]))\n",
    "#plt.plot(Y_sabr.T)"
   ]
  },
  {
   "cell_type": "code",
   "execution_count": null,
   "metadata": {},
   "outputs": [],
   "source": [
    "# SABR Bartlett\n",
    "APL_sabr_bl, holding_lagged_sabr_bl = APL_process(S_sabr_test, p_sabr_test, bl_holding_sabr)\n",
    "hedging_cost_sabr_bl = hedgingCost(kappa, S_sabr_test, bl_holding_sabr, holding_lagged_sabr_bl)\n",
    "Y_sabr_bl = objective(hedging_cost_sabr_bl, c)\n",
    "print(np.mean(Y_sabr_bl[:,-1]))\n",
    "print(np.std(Y_sabr_bl[:,-1]))\n",
    "#plt.plot(Y_sabr_bl.T)"
   ]
  },
  {
   "cell_type": "markdown",
   "metadata": {},
   "source": [
    "## Save data"
   ]
  },
  {
   "cell_type": "code",
   "execution_count": null,
   "metadata": {},
   "outputs": [],
   "source": [
    "# define data\n",
    "# save to csv file\n",
    "np.savetxt('asset_price_GBM_sim.csv', S_gbm, delimiter=',')\n",
    "np.savetxt('option_price_GBM_sim.csv', p_gbm*notional, delimiter=',')\n",
    "np.savetxt('asset_price_SABR_sim.csv', S_sabr, delimiter=',')\n",
    "np.savetxt('option_price_SABR_sim.csv', p_sabr*notional, delimiter=',')\n"
   ]
  },
  {
   "cell_type": "code",
   "execution_count": null,
   "metadata": {},
   "outputs": [],
   "source": [
    "\n",
    "S_mixed = np.vstack((S_gbm, S_sabr))\n",
    "p_mixed = np.vstack((p_gbm*notional, p_sabr*notional))\n",
    "print(S_mixed.shape)\n",
    "print(p_mixed.shape)\n",
    "np.savetxt(\"asset_price_mixed_sim.csv\", S_mixed, delimiter=\",\")\n",
    "np.savetxt(\"option_price_mixed_sim.csv\", p_mixed, delimiter=\",\")\n"
   ]
  }
 ],
 "metadata": {
  "kernelspec": {
   "display_name": "Python 3",
   "language": "python",
   "name": "python3"
  },
  "language_info": {
   "codemirror_mode": {
    "name": "ipython",
    "version": 3
   },
   "file_extension": ".py",
   "mimetype": "text/x-python",
   "name": "python",
   "nbconvert_exporter": "python",
   "pygments_lexer": "ipython3",
   "version": "3.9.5 (v3.9.5:0a7dcbdb13, May  3 2021, 13:17:02) \n[Clang 6.0 (clang-600.0.57)]"
  },
  "orig_nbformat": 4,
  "vscode": {
   "interpreter": {
    "hash": "aee8b7b246df8f9039afb4144a1f6fd8d2ca17a180786b69acc140d282b71a49"
   }
  }
 },
 "nbformat": 4,
 "nbformat_minor": 2
}
