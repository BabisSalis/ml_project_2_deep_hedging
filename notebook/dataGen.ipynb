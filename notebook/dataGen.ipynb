{
 "cells": [
  {
   "attachments": {},
   "cell_type": "markdown",
   "metadata": {},
   "source": [
    "# Performance"
   ]
  },
  {
   "cell_type": "code",
   "execution_count": 5,
   "metadata": {},
   "outputs": [],
   "source": [
    "import src.paths\n",
    "sys.path.insert(0, '/Users/alexei.ermochkine/Desktop/ml_project_2_deep_hedging/src')\n",
    "sys.path.insert(1, '/Users/alexei.ermochkine/Desktop/ml_project_2_deep_hedging/data')"
   ]
  },
  {
   "cell_type": "code",
   "execution_count": 2,
   "metadata": {},
   "outputs": [
    {
     "ename": "ModuleNotFoundError",
     "evalue": "No module named 'paths'",
     "output_type": "error",
     "traceback": [
      "\u001b[0;31m---------------------------------------------------------------------------\u001b[0m",
      "\u001b[0;31mModuleNotFoundError\u001b[0m                       Traceback (most recent call last)",
      "\u001b[1;32m/Users/alexei.ermochkine/Desktop/ml_project_2_deep_hedging/dataGen.ipynb Cell 2\u001b[0m in \u001b[0;36m<cell line: 7>\u001b[0;34m()\u001b[0m\n\u001b[1;32m      <a href='vscode-notebook-cell:/Users/alexei.ermochkine/Desktop/ml_project_2_deep_hedging/dataGen.ipynb#W2sZmlsZQ%3D%3D?line=4'>5</a>\u001b[0m \u001b[39mfrom\u001b[39;00m \u001b[39mscipy\u001b[39;00m\u001b[39m.\u001b[39;00m\u001b[39mstats\u001b[39;00m \u001b[39mimport\u001b[39;00m norm\n\u001b[1;32m      <a href='vscode-notebook-cell:/Users/alexei.ermochkine/Desktop/ml_project_2_deep_hedging/dataGen.ipynb#W2sZmlsZQ%3D%3D?line=5'>6</a>\u001b[0m \u001b[39mfrom\u001b[39;00m \u001b[39msrc\u001b[39;00m\u001b[39m.\u001b[39;00m\u001b[39msimulation\u001b[39;00m \u001b[39mimport\u001b[39;00m \u001b[39m*\u001b[39m\n\u001b[0;32m----> <a href='vscode-notebook-cell:/Users/alexei.ermochkine/Desktop/ml_project_2_deep_hedging/dataGen.ipynb#W2sZmlsZQ%3D%3D?line=6'>7</a>\u001b[0m \u001b[39mfrom\u001b[39;00m \u001b[39msrc\u001b[39;00m\u001b[39m.\u001b[39;00m\u001b[39menv\u001b[39;00m \u001b[39mimport\u001b[39;00m StockTradingEnv\n\u001b[1;32m      <a href='vscode-notebook-cell:/Users/alexei.ermochkine/Desktop/ml_project_2_deep_hedging/dataGen.ipynb#W2sZmlsZQ%3D%3D?line=7'>8</a>\u001b[0m \u001b[39mfrom\u001b[39;00m \u001b[39msrc\u001b[39;00m\u001b[39m.\u001b[39;00m\u001b[39magent\u001b[39;00m \u001b[39mimport\u001b[39;00m DDPG_Hedger\n\u001b[1;32m      <a href='vscode-notebook-cell:/Users/alexei.ermochkine/Desktop/ml_project_2_deep_hedging/dataGen.ipynb#W2sZmlsZQ%3D%3D?line=8'>9</a>\u001b[0m \u001b[39mfrom\u001b[39;00m \u001b[39msrc\u001b[39;00m\u001b[39m.\u001b[39;00m\u001b[39mnetwork\u001b[39;00m \u001b[39mimport\u001b[39;00m MLP\n",
      "File \u001b[0;32m~/Desktop/ml_project_2_deep_hedging/src/env.py:7\u001b[0m, in \u001b[0;36m<module>\u001b[0;34m\u001b[0m\n\u001b[1;32m      4\u001b[0m \u001b[39mimport\u001b[39;00m \u001b[39mpandas\u001b[39;00m \u001b[39mas\u001b[39;00m \u001b[39mpd\u001b[39;00m\n\u001b[1;32m      6\u001b[0m \u001b[39mfrom\u001b[39;00m \u001b[39mgym\u001b[39;00m \u001b[39mimport\u001b[39;00m spaces\n\u001b[0;32m----> 7\u001b[0m \u001b[39mfrom\u001b[39;00m \u001b[39mpaths\u001b[39;00m \u001b[39mimport\u001b[39;00m DATA_ROOT\n\u001b[1;32m      9\u001b[0m \u001b[39mclass\u001b[39;00m \u001b[39mStockTradingEnv\u001b[39;00m(gym\u001b[39m.\u001b[39mEnv):\n\u001b[1;32m     10\u001b[0m     \u001b[39m\"\"\"Environment for agent, consists of __init__, step, and reset functions\"\"\"\u001b[39;00m\n",
      "\u001b[0;31mModuleNotFoundError\u001b[0m: No module named 'paths'"
     ]
    }
   ],
   "source": [
    "import os\n",
    "import numpy as np\n",
    "import matplotlib.pyplot as plt\n",
    "from tqdm import tqdm\n",
    "from scipy.stats import norm\n",
    "from simulation import *\n",
    "from env import StockTradingEnv\n",
    "from agent import DDPG_Hedger\n",
    "from network import MLP"
   ]
  },
  {
   "attachments": {},
   "cell_type": "markdown",
   "metadata": {},
   "source": [
    "## Generate data and appply classical hedging"
   ]
  },
  {
   "cell_type": "code",
   "execution_count": 17,
   "metadata": {},
   "outputs": [],
   "source": [
    "T = 20 # length of simulation 20=1 month, 60 = three months\n",
    "S0 = 100 # starting price\n",
    "K = 100 # strike price\n",
    "sigma = 0.2 # volatility\n",
    "r = 0 # risk-free rate\n",
    "q = 0 # dividend yield\n",
    "mu = 0.05 # expected return on stock\n",
    "kappa = 0.01 # trading cost per unit traded\n",
    "dt = 1 # hedging time step\n",
    "notional = 100 # how many stocks the option is on\n",
    "rho = -0.4 # correlation of stochastic volatility process\n",
    "v = 0.6\n",
    "sigma0 = 0.2 # starting volatility\n",
    "c = 1.5 #standard deviation coefficient\n",
    "ds = 0.01\n",
    "\n",
    "n = 3000 # number of simulatied paths\n",
    "days = 250 # number of days in a year\n",
    "freq = 1 # trading frequency\n",
    "np.random.seed(12)"
   ]
  },
  {
   "attachments": {},
   "cell_type": "markdown",
   "metadata": {},
   "source": [
    "- 1st run: save train data\n",
    "- 2nd run or more: ignore this process and import data and run afterwards."
   ]
  },
  {
   "cell_type": "code",
   "execution_count": 5,
   "metadata": {},
   "outputs": [
    {
     "name": "stderr",
     "output_type": "stream",
     "text": [
      "100%|██████████| 19/19 [00:00<00:00, 9533.65it/s]\n",
      "100%|██████████| 19/19 [00:00<00:00, 4765.68it/s]\n",
      "D:\\work/Personal/ml_project_2_deep_hedging/src\\simulation.py:124: RuntimeWarning: invalid value encountered in divide\n",
      "  imp_vol = np.where(f == K, atm, atm * xi / xi_func)\n"
     ]
    }
   ],
   "source": [
    "S_gbm, p_gbm, d_gbm = simulateGBM(n, T, dt, S0, mu, r, q, sigma, days, freq, K)\n",
    "\n",
    "S_sabr, s_sabr, iv_sabr, p_sabr, delta_sabr, delta_sabr_bl = simulateSABR(\n",
    "    n, T, dt, S0, mu, r, q, sigma, days, freq, rho, ds, v, K)"
   ]
  },
  {
   "cell_type": "code",
   "execution_count": 6,
   "metadata": {},
   "outputs": [],
   "source": [
    "# classical hedging implementations (trading strategies)\n",
    "trading_gbm, holding_gbm = hedgingStrategy(\"GBM\",notional, d_gbm, 0)\n",
    "trading_sabr, holding_sabr, trading_sabr_bl, holding_sabr_bl = hedgingStrategy(\"SABR\",notional, delta_sabr, delta_sabr_bl)"
   ]
  },
  {
   "cell_type": "code",
   "execution_count": 7,
   "metadata": {},
   "outputs": [],
   "source": [
    "# Accounting PnL\n",
    "APL_gbm, holding_lagged_gbm = APL_process(S_gbm, p_gbm*notional, holding_gbm, K, notional, kappa)\n",
    "APL_sabr, holding_lagged_sabr = APL_process(S_sabr, p_sabr*notional, holding_sabr, K, notional, kappa)\n",
    "APL_sabr_bl, holding_lagged_sabr_bl = APL_process(S_sabr, p_sabr*notional, holding_sabr_bl, K, notional, kappa)"
   ]
  },
  {
   "cell_type": "code",
   "execution_count": 8,
   "metadata": {},
   "outputs": [],
   "source": [
    "# Evaluation:\n",
    "# Y(0) (take mean), \n",
    "# mean of  cost as percentage of option price,\n",
    "# std of  cost as percentage of option price.\n",
    "\n",
    "Y_gbm, mPerc_gbm, stdPerc_gbm = evaluate(APL_gbm, p_gbm, c, notional) \n",
    "Y_sabr, mPerc_sabr, stdPerc_sabr = evaluate(APL_sabr, p_sabr, c, notional)\n",
    "Y_sabr_bl, mPerc_sabr_bl, stdPerc_sabr_bl = evaluate(APL_sabr_bl, p_sabr, c, notional)"
   ]
  },
  {
   "cell_type": "code",
   "execution_count": 9,
   "metadata": {},
   "outputs": [
    {
     "name": "stdout",
     "output_type": "stream",
     "text": [
      "GBM\n",
      "Y0:  135.3827886076877\n",
      "mean cost (%):  0.3017732559712498\n",
      "std cost (%):  0.19880406280782928\n",
      "\n",
      "\n",
      "SABR delta\n",
      "Y0:  136.3208466308123\n",
      "mean cost (%):  0.302091636099821\n",
      "std cost (%):  0.20136328646715285\n",
      "\n",
      "\n",
      "SABR Bartlett\n",
      "Y0:  136.38926780116168\n",
      "mean cost (%):  0.3026634253760105\n",
      "std cost (%):  0.2011842428444716\n"
     ]
    }
   ],
   "source": [
    "print(\"GBM\")\n",
    "print(\"Y0: \", np.mean(Y_gbm))\n",
    "print(\"mean cost (%): \", mPerc_gbm)\n",
    "print(\"std cost (%): \", stdPerc_gbm)\n",
    "print(\"\\n\")\n",
    "print(\"SABR delta\")\n",
    "print(\"Y0: \", np.mean(Y_sabr))\n",
    "print(\"mean cost (%): \", mPerc_sabr)\n",
    "print(\"std cost (%): \", stdPerc_sabr)\n",
    "print(\"\\n\")\n",
    "print(\"SABR Bartlett\")\n",
    "print(\"Y0: \", np.mean(Y_sabr_bl))\n",
    "print(\"mean cost (%): \", mPerc_sabr_bl)\n",
    "print(\"std cost (%): \", stdPerc_sabr_bl)"
   ]
  },
  {
   "attachments": {},
   "cell_type": "markdown",
   "metadata": {},
   "source": [
    "## data saving"
   ]
  },
  {
   "cell_type": "code",
   "execution_count": 10,
   "metadata": {},
   "outputs": [
    {
     "name": "stdout",
     "output_type": "stream",
     "text": [
      "(6000, 20)\n",
      "(6000, 20)\n"
     ]
    }
   ],
   "source": [
    "result_folder_path = f\"data/{T//20}month/{freq}d\"\n",
    "os.makedirs(result_folder_path, exist_ok=True)\n",
    "\n",
    "# define data\n",
    "# save to csv file\n",
    "np.savetxt(f'data/{T//20}month/{freq}d/asset_price_GBM_sim.csv', S_gbm, delimiter=',')\n",
    "np.savetxt(f'data/{T//20}month/{freq}d/option_price_GBM_sim.csv', p_gbm*notional, delimiter=',')\n",
    "np.savetxt(f'data/{T//20}month/{freq}d/asset_price_SABR_sim.csv', S_sabr, delimiter=',')\n",
    "np.savetxt(f'data/{T//20}month/{freq}d/option_price_SABR_sim.csv', p_sabr*notional, delimiter=',')\n",
    "\n",
    "\n",
    "S_mixed = np.vstack((S_gbm, S_sabr))\n",
    "p_mixed = np.vstack((p_gbm*notional, p_sabr*notional))\n",
    "print(S_mixed.shape)\n",
    "print(p_mixed.shape)\n",
    "np.savetxt(f\"data/{T//20}month/{freq}d/asset_price_mixed_sim.csv\", S_mixed, delimiter=\",\")\n",
    "np.savetxt(f\"data/{T//20}month/{freq}d/option_price_mixed_sim.csv\", p_mixed, delimiter=\",\")\n"
   ]
  },
  {
   "attachments": {},
   "cell_type": "markdown",
   "metadata": {},
   "source": [
    "# Deep RL Method "
   ]
  },
  {
   "cell_type": "markdown",
   "metadata": {},
   "source": []
  },
  {
   "cell_type": "code",
   "execution_count": 13,
   "metadata": {},
   "outputs": [],
   "source": [
    "\n",
    "env = StockTradingEnv(maturity=1, frequency=1, data_type=\"GBM\", test_env=True)\n",
    "\n",
    "# set same dataset as delta hedging\n",
    "env.asset_price = S_gbm\n",
    "env.option_price = p_gbm\n",
    "\n",
    "nState, nAction = env.observation_space.shape[0], \\\n",
    "                    env.action_space.shape[0]  # 3, 1\n",
    "\n",
    "# we use hidden layer size of 32, 64 as the author used.\n",
    "actor = MLP(nState, 16, nAction, \"Sigmoid\")\n",
    "qnet_1 = MLP(nState + nAction, 16, nAction, \"\")\n",
    "qnet_2 = MLP(nState + nAction, 16, nAction, \"\")\n",
    "agent = DDPG_Hedger(actor, qnet_1, qnet_2, 0, 0, 1, 32)\n",
    "agent.load('v8_new')"
   ]
  },
  {
   "cell_type": "code",
   "execution_count": 14,
   "metadata": {},
   "outputs": [
    {
     "name": "stdout",
     "output_type": "stream",
     "text": [
      "Episode 0\n"
     ]
    },
    {
     "ename": "KeyboardInterrupt",
     "evalue": "",
     "output_type": "error",
     "traceback": [
      "\u001b[0;31m---------------------------------------------------------------------------\u001b[0m",
      "\u001b[0;31mKeyboardInterrupt\u001b[0m                         Traceback (most recent call last)",
      "\u001b[1;32m/Users/alexei.ermochkine/Desktop/ml_project_2_deep_hedging/dataGen.ipynb Cell 16\u001b[0m in \u001b[0;36m<cell line: 2>\u001b[0;34m()\u001b[0m\n\u001b[1;32m     <a href='vscode-notebook-cell:/Users/alexei.ermochkine/Desktop/ml_project_2_deep_hedging/dataGen.ipynb#X21sZmlsZQ%3D%3D?line=12'>13</a>\u001b[0m normalized_state \u001b[39m=\u001b[39m env\u001b[39m.\u001b[39mnormalize(state)\n\u001b[1;32m     <a href='vscode-notebook-cell:/Users/alexei.ermochkine/Desktop/ml_project_2_deep_hedging/dataGen.ipynb#X21sZmlsZQ%3D%3D?line=14'>15</a>\u001b[0m \u001b[39m# action without exploration\u001b[39;00m\n\u001b[0;32m---> <a href='vscode-notebook-cell:/Users/alexei.ermochkine/Desktop/ml_project_2_deep_hedging/dataGen.ipynb#X21sZmlsZQ%3D%3D?line=15'>16</a>\u001b[0m action \u001b[39m=\u001b[39m agent\u001b[39m.\u001b[39;49mact(normalized_state, \u001b[39m0\u001b[39;49m)\n\u001b[1;32m     <a href='vscode-notebook-cell:/Users/alexei.ermochkine/Desktop/ml_project_2_deep_hedging/dataGen.ipynb#X21sZmlsZQ%3D%3D?line=17'>18</a>\u001b[0m next_state, reward, done \u001b[39m=\u001b[39m env\u001b[39m.\u001b[39mstep(action)\n\u001b[1;32m     <a href='vscode-notebook-cell:/Users/alexei.ermochkine/Desktop/ml_project_2_deep_hedging/dataGen.ipynb#X21sZmlsZQ%3D%3D?line=19'>20</a>\u001b[0m state \u001b[39m=\u001b[39m next_state\n",
      "File \u001b[0;32m~/Desktop/ml_project_2_deep_hedging/src/agent.py:79\u001b[0m, in \u001b[0;36mDDPG_Hedger.act\u001b[0;34m(self, state, epsilon, isPrint)\u001b[0m\n\u001b[1;32m     77\u001b[0m     action \u001b[39m=\u001b[39m np\u001b[39m.\u001b[39mrandom\u001b[39m.\u001b[39muniform(\u001b[39m0\u001b[39m, \u001b[39m1\u001b[39m)\n\u001b[1;32m     78\u001b[0m \u001b[39melse\u001b[39;00m:\n\u001b[0;32m---> 79\u001b[0m     action \u001b[39m=\u001b[39m \u001b[39mself\u001b[39;49m\u001b[39m.\u001b[39;49mactor(x)\u001b[39m.\u001b[39mdetach()\u001b[39m.\u001b[39mitem()\n\u001b[1;32m     80\u001b[0m \u001b[39mreturn\u001b[39;00m np\u001b[39m.\u001b[39mclip(action \u001b[39m*\u001b[39m \u001b[39m100\u001b[39m, \u001b[39m0\u001b[39m, \u001b[39m100.0\u001b[39m)\n",
      "File \u001b[0;32m/Library/Frameworks/Python.framework/Versions/3.9/lib/python3.9/site-packages/torch/nn/modules/module.py:1190\u001b[0m, in \u001b[0;36mModule._call_impl\u001b[0;34m(self, *input, **kwargs)\u001b[0m\n\u001b[1;32m   1186\u001b[0m \u001b[39m# If we don't have any hooks, we want to skip the rest of the logic in\u001b[39;00m\n\u001b[1;32m   1187\u001b[0m \u001b[39m# this function, and just call forward.\u001b[39;00m\n\u001b[1;32m   1188\u001b[0m \u001b[39mif\u001b[39;00m \u001b[39mnot\u001b[39;00m (\u001b[39mself\u001b[39m\u001b[39m.\u001b[39m_backward_hooks \u001b[39mor\u001b[39;00m \u001b[39mself\u001b[39m\u001b[39m.\u001b[39m_forward_hooks \u001b[39mor\u001b[39;00m \u001b[39mself\u001b[39m\u001b[39m.\u001b[39m_forward_pre_hooks \u001b[39mor\u001b[39;00m _global_backward_hooks\n\u001b[1;32m   1189\u001b[0m         \u001b[39mor\u001b[39;00m _global_forward_hooks \u001b[39mor\u001b[39;00m _global_forward_pre_hooks):\n\u001b[0;32m-> 1190\u001b[0m     \u001b[39mreturn\u001b[39;00m forward_call(\u001b[39m*\u001b[39;49m\u001b[39minput\u001b[39;49m, \u001b[39m*\u001b[39;49m\u001b[39m*\u001b[39;49mkwargs)\n\u001b[1;32m   1191\u001b[0m \u001b[39m# Do not call functions when jit is used\u001b[39;00m\n\u001b[1;32m   1192\u001b[0m full_backward_hooks, non_full_backward_hooks \u001b[39m=\u001b[39m [], []\n",
      "File \u001b[0;32m~/Desktop/ml_project_2_deep_hedging/src/network.py:31\u001b[0m, in \u001b[0;36mMLP.forward\u001b[0;34m(self, x)\u001b[0m\n\u001b[1;32m     30\u001b[0m \u001b[39mdef\u001b[39;00m \u001b[39mforward\u001b[39m(\u001b[39mself\u001b[39m, x):\n\u001b[0;32m---> 31\u001b[0m     output \u001b[39m=\u001b[39m \u001b[39mself\u001b[39;49m\u001b[39m.\u001b[39;49mmodel(x)\n\u001b[1;32m     32\u001b[0m     \u001b[39mif\u001b[39;00m \u001b[39mself\u001b[39m\u001b[39m.\u001b[39mactivation_name \u001b[39mnot\u001b[39;00m \u001b[39min\u001b[39;00m \u001b[39mself\u001b[39m\u001b[39m.\u001b[39mactiv_layers\u001b[39m.\u001b[39mkeys():\n\u001b[1;32m     33\u001b[0m         \u001b[39mpass\u001b[39;00m\n",
      "File \u001b[0;32m/Library/Frameworks/Python.framework/Versions/3.9/lib/python3.9/site-packages/torch/nn/modules/module.py:1190\u001b[0m, in \u001b[0;36mModule._call_impl\u001b[0;34m(self, *input, **kwargs)\u001b[0m\n\u001b[1;32m   1186\u001b[0m \u001b[39m# If we don't have any hooks, we want to skip the rest of the logic in\u001b[39;00m\n\u001b[1;32m   1187\u001b[0m \u001b[39m# this function, and just call forward.\u001b[39;00m\n\u001b[1;32m   1188\u001b[0m \u001b[39mif\u001b[39;00m \u001b[39mnot\u001b[39;00m (\u001b[39mself\u001b[39m\u001b[39m.\u001b[39m_backward_hooks \u001b[39mor\u001b[39;00m \u001b[39mself\u001b[39m\u001b[39m.\u001b[39m_forward_hooks \u001b[39mor\u001b[39;00m \u001b[39mself\u001b[39m\u001b[39m.\u001b[39m_forward_pre_hooks \u001b[39mor\u001b[39;00m _global_backward_hooks\n\u001b[1;32m   1189\u001b[0m         \u001b[39mor\u001b[39;00m _global_forward_hooks \u001b[39mor\u001b[39;00m _global_forward_pre_hooks):\n\u001b[0;32m-> 1190\u001b[0m     \u001b[39mreturn\u001b[39;00m forward_call(\u001b[39m*\u001b[39;49m\u001b[39minput\u001b[39;49m, \u001b[39m*\u001b[39;49m\u001b[39m*\u001b[39;49mkwargs)\n\u001b[1;32m   1191\u001b[0m \u001b[39m# Do not call functions when jit is used\u001b[39;00m\n\u001b[1;32m   1192\u001b[0m full_backward_hooks, non_full_backward_hooks \u001b[39m=\u001b[39m [], []\n",
      "File \u001b[0;32m/Library/Frameworks/Python.framework/Versions/3.9/lib/python3.9/site-packages/torch/nn/modules/container.py:204\u001b[0m, in \u001b[0;36mSequential.forward\u001b[0;34m(self, input)\u001b[0m\n\u001b[1;32m    202\u001b[0m \u001b[39mdef\u001b[39;00m \u001b[39mforward\u001b[39m(\u001b[39mself\u001b[39m, \u001b[39minput\u001b[39m):\n\u001b[1;32m    203\u001b[0m     \u001b[39mfor\u001b[39;00m module \u001b[39min\u001b[39;00m \u001b[39mself\u001b[39m:\n\u001b[0;32m--> 204\u001b[0m         \u001b[39minput\u001b[39m \u001b[39m=\u001b[39m module(\u001b[39minput\u001b[39;49m)\n\u001b[1;32m    205\u001b[0m     \u001b[39mreturn\u001b[39;00m \u001b[39minput\u001b[39m\n",
      "File \u001b[0;32m/Library/Frameworks/Python.framework/Versions/3.9/lib/python3.9/site-packages/torch/nn/modules/module.py:1190\u001b[0m, in \u001b[0;36mModule._call_impl\u001b[0;34m(self, *input, **kwargs)\u001b[0m\n\u001b[1;32m   1186\u001b[0m \u001b[39m# If we don't have any hooks, we want to skip the rest of the logic in\u001b[39;00m\n\u001b[1;32m   1187\u001b[0m \u001b[39m# this function, and just call forward.\u001b[39;00m\n\u001b[1;32m   1188\u001b[0m \u001b[39mif\u001b[39;00m \u001b[39mnot\u001b[39;00m (\u001b[39mself\u001b[39m\u001b[39m.\u001b[39m_backward_hooks \u001b[39mor\u001b[39;00m \u001b[39mself\u001b[39m\u001b[39m.\u001b[39m_forward_hooks \u001b[39mor\u001b[39;00m \u001b[39mself\u001b[39m\u001b[39m.\u001b[39m_forward_pre_hooks \u001b[39mor\u001b[39;00m _global_backward_hooks\n\u001b[1;32m   1189\u001b[0m         \u001b[39mor\u001b[39;00m _global_forward_hooks \u001b[39mor\u001b[39;00m _global_forward_pre_hooks):\n\u001b[0;32m-> 1190\u001b[0m     \u001b[39mreturn\u001b[39;00m forward_call(\u001b[39m*\u001b[39;49m\u001b[39minput\u001b[39;49m, \u001b[39m*\u001b[39;49m\u001b[39m*\u001b[39;49mkwargs)\n\u001b[1;32m   1191\u001b[0m \u001b[39m# Do not call functions when jit is used\u001b[39;00m\n\u001b[1;32m   1192\u001b[0m full_backward_hooks, non_full_backward_hooks \u001b[39m=\u001b[39m [], []\n",
      "File \u001b[0;32m/Library/Frameworks/Python.framework/Versions/3.9/lib/python3.9/site-packages/torch/nn/modules/linear.py:114\u001b[0m, in \u001b[0;36mLinear.forward\u001b[0;34m(self, input)\u001b[0m\n\u001b[1;32m    113\u001b[0m \u001b[39mdef\u001b[39;00m \u001b[39mforward\u001b[39m(\u001b[39mself\u001b[39m, \u001b[39minput\u001b[39m: Tensor) \u001b[39m-\u001b[39m\u001b[39m>\u001b[39m Tensor:\n\u001b[0;32m--> 114\u001b[0m     \u001b[39mreturn\u001b[39;00m F\u001b[39m.\u001b[39;49mlinear(\u001b[39minput\u001b[39;49m, \u001b[39mself\u001b[39;49m\u001b[39m.\u001b[39;49mweight, \u001b[39mself\u001b[39;49m\u001b[39m.\u001b[39;49mbias)\n",
      "\u001b[0;31mKeyboardInterrupt\u001b[0m: "
     ]
    }
   ],
   "source": [
    "path_indice, rewards_path, action_path = [], [], []\n",
    "for i in range(n):\n",
    "    state = env.reset()\n",
    "    env.path_idx = i\n",
    "    \n",
    "    path_indice.append(env.path_idx)\n",
    "    rewards, actions = [], [0]\n",
    "    done = False\n",
    "    \n",
    "    if i%1000 == 0:\n",
    "        print(f'Episode {i}')\n",
    "    while not done:\n",
    "        normalized_state = env.normalize(state)\n",
    "        \n",
    "        # action without exploration\n",
    "        action = agent.act(normalized_state, 0)\n",
    "        \n",
    "        next_state, reward, done = env.step(action)\n",
    "\n",
    "        state = next_state\n",
    "        rewards.append(np.round(reward, 2))\n",
    "        actions.append(np.round(action, 2)) # each episode [0.99, 13.20 ... 100 ] shape (1,60) \n",
    "        \n",
    "        if done:\n",
    "            break\n",
    "\n",
    "    rewards_path.append(rewards) # <- (numEpisode=25000, 60)\n",
    "    action_path.append(actions) # (numEpisode=25000, 60) = holding_gbm"
   ]
  },
  {
   "cell_type": "code",
   "execution_count": 49,
   "metadata": {},
   "outputs": [],
   "source": [
    "# get action array as holding gbm\n",
    "apl_gbm_rl, holding_lagged_rl = APL_process(S_gbm, p_gbm*notional, np.array(action_path), K, notional, kappa)"
   ]
  },
  {
   "cell_type": "code",
   "execution_count": 50,
   "metadata": {},
   "outputs": [],
   "source": [
    "Y_gbm_rl, mPerc_gbm_rl, stdPerc_gbm_rl = evaluate(apl_gbm_rl, p_gbm, c, notional) "
   ]
  },
  {
   "cell_type": "code",
   "execution_count": 51,
   "metadata": {},
   "outputs": [
    {
     "name": "stdout",
     "output_type": "stream",
     "text": [
      "GBM\n",
      "Y0:  232.5832075191567\n",
      "mean cost (%):  0.3103369148956763\n",
      "std cost (%):  0.18994841560819478\n",
      "GBM RL\n",
      "Y0:  1138.6801914838259\n",
      "mean cost (%):  1.551102008324295\n",
      "std cost (%):  0.9087786063302595\n"
     ]
    }
   ],
   "source": [
    "print(\"GBM\")\n",
    "print(\"Y0: \", np.mean(Y_gbm))\n",
    "print(\"mean cost (%): \", mPerc_gbm)\n",
    "print(\"std cost (%): \", stdPerc_gbm)\n",
    "\n",
    "print(\"GBM RL\")\n",
    "print(\"Y0: \", np.mean(Y_gbm_rl))\n",
    "print(\"mean cost (%): \", mPerc_gbm_rl)\n",
    "print(\"std cost (%): \", stdPerc_gbm_rl)"
   ]
  },
  {
   "attachments": {},
   "cell_type": "markdown",
   "metadata": {},
   "source": [
    "# Results"
   ]
  },
  {
   "attachments": {},
   "cell_type": "markdown",
   "metadata": {},
   "source": [
    "### Episode total reward histograms (classic delta vs RL agent)"
   ]
  },
  {
   "cell_type": "code",
   "execution_count": 26,
   "metadata": {},
   "outputs": [
    {
     "data": {
      "image/png": "[encoded data removed]",
      "text/plain": [
       "<Figure size 432x288 with 1 Axes>"
      ]
     },
     "metadata": {
      "needs_background": "light"
     },
     "output_type": "display_data"
    }
   ],
   "source": [
    "total_episode_rewards_gbm = np.sum(np.asarray(APL_gbm), axis=1)\n",
    "total_episode_rewards_agent = np.sum(np.asarray(rewards_path), axis=1)\n",
    "plt.hist(total_episode_rewards_agent,bins=40,label='agent')\n",
    "plt.hist(total_episode_rewards_gbm,bins=40,label='classical (GBM)')\n",
    "plt.legend(loc='upper right')\n",
    "plt.show()"
   ]
  },
  {
   "attachments": {},
   "cell_type": "markdown",
   "metadata": {},
   "source": [
    "### Actions during a path (classic delta vs RL agent)"
   ]
  },
  {
   "cell_type": "code",
   "execution_count": 1,
   "metadata": {},
   "outputs": [
    {
     "ename": "NameError",
     "evalue": "name 'plt' is not defined",
     "output_type": "error",
     "traceback": [
      "\u001b[0;31m---------------------------------------------------------------------------\u001b[0m",
      "\u001b[0;31mNameError\u001b[0m                                 Traceback (most recent call last)",
      "\u001b[1;32m/Users/alexei.ermochkine/Desktop/ml_project_2_deep_hedging/notebook/dataGen.ipynb Cell 25\u001b[0m in \u001b[0;36m<cell line: 3>\u001b[0;34m()\u001b[0m\n\u001b[1;32m      <a href='vscode-notebook-cell:/Users/alexei.ermochkine/Desktop/ml_project_2_deep_hedging/notebook/dataGen.ipynb#X34sZmlsZQ%3D%3D?line=0'>1</a>\u001b[0m path_number \u001b[39m=\u001b[39m \u001b[39m777\u001b[39m \u001b[39m# chose a path number in [0,n-1]\u001b[39;00m\n\u001b[0;32m----> <a href='vscode-notebook-cell:/Users/alexei.ermochkine/Desktop/ml_project_2_deep_hedging/notebook/dataGen.ipynb#X34sZmlsZQ%3D%3D?line=2'>3</a>\u001b[0m plt\u001b[39m.\u001b[39mplot(np\u001b[39m.\u001b[39marray(action_path)[path_number], label\u001b[39m=\u001b[39m\u001b[39m'\u001b[39m\u001b[39mRL delta\u001b[39m\u001b[39m'\u001b[39m)\n\u001b[1;32m      <a href='vscode-notebook-cell:/Users/alexei.ermochkine/Desktop/ml_project_2_deep_hedging/notebook/dataGen.ipynb#X34sZmlsZQ%3D%3D?line=3'>4</a>\u001b[0m plt\u001b[39m.\u001b[39mplot(holding_gbm[path_number], label\u001b[39m=\u001b[39m\u001b[39m'\u001b[39m\u001b[39mClassic delta\u001b[39m\u001b[39m'\u001b[39m)\n\u001b[1;32m      <a href='vscode-notebook-cell:/Users/alexei.ermochkine/Desktop/ml_project_2_deep_hedging/notebook/dataGen.ipynb#X34sZmlsZQ%3D%3D?line=4'>5</a>\u001b[0m plt\u001b[39m.\u001b[39mxlabel(\u001b[39m'\u001b[39m\u001b[39m'\u001b[39m)\n",
      "\u001b[0;31mNameError\u001b[0m: name 'plt' is not defined"
     ]
    }
   ],
   "source": [
    "path_number = 777 # chose a path number in [0,n-1]\n",
    "\n",
    "plt.plot(np.array(action_path)[path_number], label='RL delta')\n",
    "plt.plot(holding_gbm[path_number], label='Classic delta')\n",
    "plt.xlabel('')\n",
    "plt.legend()\n",
    "plt.show()"
   ]
  },
  {
   "cell_type": "code",
   "execution_count": null,
   "metadata": {},
   "outputs": [],
   "source": []
  }
 ],
 "metadata": {
  "kernelspec": {
   "display_name": "Python 3",
   "language": "python",
   "name": "python3"
  },
  "language_info": {
   "codemirror_mode": {
    "name": "ipython",
    "version": 3
   },
   "file_extension": ".py",
   "mimetype": "text/x-python",
   "name": "python",
   "nbconvert_exporter": "python",
   "pygments_lexer": "ipython3",
   "version": "3.9.5"
  },
  "orig_nbformat": 4,
  "vscode": {
   "interpreter": {
    "hash": "aee8b7b246df8f9039afb4144a1f6fd8d2ca17a180786b69acc140d282b71a49"
   }
  }
 },
 "nbformat": 4,
 "nbformat_minor": 2
}
