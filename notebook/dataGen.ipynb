{
 "cells": [
  {
   "cell_type": "markdown",
   "metadata": {},
   "source": [
    "## Generate data and appply classical hedging\n",
    "## Perform evaluation"
   ]
  },
  {
   "cell_type": "code",
   "execution_count": 9,
   "metadata": {},
   "outputs": [],
   "source": [
    "from simulation import *\n",
    "import numpy as np\n",
    "from scipy.stats import norm\n",
    "from tqdm import tqdm\n",
    "import matplotlib.pyplot as plt"
   ]
  },
  {
   "cell_type": "code",
   "execution_count": 22,
   "metadata": {},
   "outputs": [],
   "source": [
    "T = 60 # length of simulation 20=1 month, 60 = three months\n",
    "S0 = 100 # starting price\n",
    "K = 100 # strike price\n",
    "sigma = 0.2 # volatility\n",
    "r = 0 # risk-free rate\n",
    "q = 0 # dividend yield\n",
    "mu = 0.05 # expected return on stock\n",
    "kappa = 0.01 # trading cost per unit traded\n",
    "dt = 1 # hedging time step\n",
    "notional = 100 # how many stocks the option is on\n",
    "rho = -0.4 # correlation of stochastic volatility process\n",
    "v = 0.6\n",
    "sigma0 = 0.2 # starting volatility\n",
    "c = 1.5 #standard deviation coefficient\n",
    "ds = 0.01\n",
    "\n",
    "n = 25000 # number of simulatied paths\n",
    "days = 250 # number of days in a year\n",
    "freq = 1 # trading frequency\n",
    "np.random.seed(1)"
   ]
  },
  {
   "cell_type": "code",
   "execution_count": 23,
   "metadata": {},
   "outputs": [
    {
     "name": "stderr",
     "output_type": "stream",
     "text": [
      "100%|██████████| 59/59 [00:00<00:00, 186.62it/s]\n",
      "100%|██████████| 59/59 [00:00<00:00, 177.64it/s]\n"
     ]
    }
   ],
   "source": [
    "S_gbm, p_gbm, d_gbm = simulateGBM(n, T, dt, S0, mu, r, q, sigma, days, freq, K)\n",
    "\n",
    "S_sabr, s_sabr, iv_sabr, p_sabr, delta_sabr, delta_sabr_bl = simulateSABR(\n",
    "    n, T, dt, S0, mu, r, q, sigma, days, freq, rho, ds, v, K)"
   ]
  },
  {
   "cell_type": "code",
   "execution_count": 24,
   "metadata": {},
   "outputs": [],
   "source": [
    "# classical hedging implementations (trading strategies)\n",
    "trading_gbm, holding_gbm = hedgingStrategy(\"GBM\",notional, d_gbm, 0)\n",
    "trading_sabr, holding_sabr, trading_sabr_bl, holding_sabr_bl = hedgingStrategy(\"SABR\",notional, delta_sabr, delta_sabr_bl)"
   ]
  },
  {
   "cell_type": "code",
   "execution_count": 25,
   "metadata": {},
   "outputs": [],
   "source": [
    "# Accounting PnL\n",
    "APL_gbm, holding_lagged_gbm = APL_process(S_gbm, p_gbm*notional, holding_gbm, K, notional, kappa)\n",
    "APL_sabr, holding_lagged_sabr = APL_process(S_sabr, p_sabr*notional, holding_sabr, K, notional, kappa)\n",
    "APL_sabr_bl, holding_lagged_sabr_bl = APL_process(S_sabr, p_sabr*notional, holding_sabr_bl, K, notional, kappa)"
   ]
  },
  {
   "cell_type": "code",
   "execution_count": 26,
   "metadata": {},
   "outputs": [],
   "source": [
    "# Evaluation:\n",
    "# Y(0) (take mean), \n",
    "# mean of  cost as percentage of option price,\n",
    "# std of  cost as percentage of option price.\n",
    "\n",
    "Y_gbm, mPerc_gbm, stdPerc_gbm = evaluate(APL_gbm, p_gbm, c, notional) \n",
    "Y_sabr, mPerc_sabr, stdPerc_sabr = evaluate(APL_sabr, p_sabr, c, notional)\n",
    "Y_sabr_bl, mPerc_sabr_bl, stdPerc_sabr_bl = evaluate(APL_sabr_bl, p_sabr, c, notional)"
   ]
  },
  {
   "cell_type": "code",
   "execution_count": 29,
   "metadata": {},
   "outputs": [
    {
     "name": "stdout",
     "output_type": "stream",
     "text": [
      "GBM\n",
      "Y0:  233.75656209909417\n",
      "mean cost (%):  0.3118939779877127\n",
      "std cost (%):  0.19091238252812498\n",
      "\n",
      "\n",
      "SABR delta\n",
      "Y0:  236.65688202375188\n",
      "mean cost (%):  0.3114695347126298\n",
      "std cost (%):  0.1961439481746562\n",
      "\n",
      "\n",
      "SABR Bartlett\n",
      "Y0:  237.37367164229065\n",
      "mean cost (%):  0.31337575787764466\n",
      "std cost (%):  0.1960961383585505\n"
     ]
    }
   ],
   "source": [
    "print(\"GBM\")\n",
    "print(\"Y0: \", np.mean(Y_gbm))\n",
    "print(\"mean cost (%): \", mPerc_gbm)\n",
    "print(\"std cost (%): \", stdPerc_gbm)\n",
    "print(\"\\n\")\n",
    "print(\"SABR delta\")\n",
    "print(\"Y0: \", np.mean(Y_sabr))\n",
    "print(\"mean cost (%): \", mPerc_sabr)\n",
    "print(\"std cost (%): \", stdPerc_sabr)\n",
    "print(\"\\n\")\n",
    "print(\"SABR Bartlett\")\n",
    "print(\"Y0: \", np.mean(Y_sabr_bl))\n",
    "print(\"mean cost (%): \", mPerc_sabr_bl)\n",
    "print(\"std cost (%): \", stdPerc_sabr_bl)"
   ]
  },
  {
   "cell_type": "code",
   "execution_count": null,
   "metadata": {},
   "outputs": [],
   "source": [
    "# define data\n",
    "# save to csv file\n",
    "np.savetxt('asset_price_GBM_sim.csv', S_gbm, delimiter=',')\n",
    "np.savetxt('option_price_GBM_sim.csv', p_gbm*notional, delimiter=',')\n",
    "np.savetxt('asset_price_SABR_sim.csv', S_sabr, delimiter=',')\n",
    "np.savetxt('option_price_SABR_sim.csv', p_sabr*notional, delimiter=',')\n",
    "\n",
    "\n",
    "S_mixed = np.vstack((S_gbm, S_sabr))\n",
    "p_mixed = np.vstack((p_gbm*notional, p_sabr*notional))\n",
    "print(S_mixed.shape)\n",
    "print(p_mixed.shape)\n",
    "np.savetxt(\"asset_price_mixed_sim.csv\", S_mixed, delimiter=\",\")\n",
    "np.savetxt(\"option_price_mixed_sim.csv\", p_mixed, delimiter=\",\")\n"
   ]
  },
  {
   "cell_type": "markdown",
   "metadata": {},
   "source": []
  }
 ],
 "metadata": {
  "kernelspec": {
   "display_name": "Python 3.9.7 ('base')",
   "language": "python",
   "name": "python3"
  },
  "language_info": {
   "codemirror_mode": {
    "name": "ipython",
    "version": 3
   },
   "file_extension": ".py",
   "mimetype": "text/x-python",
   "name": "python",
   "nbconvert_exporter": "python",
   "pygments_lexer": "ipython3",
   "version": "3.9.7"
  },
  "orig_nbformat": 4,
  "vscode": {
   "interpreter": {
    "hash": "e43df66ad0f0787d4205e31aaf601eb29cbf46dc26a30430695488c8c4e2fdd0"
   }
  }
 },
 "nbformat": 4,
 "nbformat_minor": 2
}
