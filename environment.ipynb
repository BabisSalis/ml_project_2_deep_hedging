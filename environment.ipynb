{
 "cells": [
  {
   "cell_type": "code",
   "execution_count": 1,
   "metadata": {},
   "outputs": [],
   "source": [
    "import numpy as np\n",
    "import gym\n",
    "from gym import spaces"
   ]
  },
  {
   "cell_type": "markdown",
   "metadata": {},
   "source": [
    "### shape of a custom gym environment \n",
    "``` \n",
    "class CustomEnv(gym.Env):\n",
    "  \"\"\"Custom Environment that follows gym interface\"\"\"\n",
    "  metadata = {'render.modes': ['human']}\n",
    "\n",
    "  def __init__(self, arg1, arg2, ...):\n",
    "    super(CustomEnv, self).__init__()\n",
    "    # Define action and observation space\n",
    "    # They must be gym.spaces objects\n",
    "    # Example when using discrete actions:\n",
    "    self.action_space = spaces.Discrete(N_DISCRETE_ACTIONS)\n",
    "    # Example for using image as input:\n",
    "    self.observation_space = spaces.Box(low=0, high=255, shape=\n",
    "                    (HEIGHT, WIDTH, N_CHANNELS), dtype=np.uint8)\n",
    "\n",
    "  def step(self, action):\n",
    "    # Execute one time step within the environment\n",
    "    ...\n",
    "  def reset(self):\n",
    "    # Reset the state of the environment to an initial state\n",
    "    ...\n",
    "  def render(self, mode='human', close=False):\n",
    "    # Render the environment to the screen\n",
    "    ... \n",
    "    \n",
    "```"
   ]
  },
  {
   "cell_type": "code",
   "execution_count": null,
   "metadata": {},
   "outputs": [],
   "source": [
    "# to be defined\n",
    "INITIAL_ACCOUNT_BALANCE = 0\n",
    "MAX_ACCOUNT_BALANCE = 0\n",
    "\n",
    "# StockTradingEnv ???"
   ]
  },
  {
   "cell_type": "code",
   "execution_count": null,
   "metadata": {},
   "outputs": [],
   "source": [
    "class StockTradingEnvironment(gym.Env):\n",
    "  \"\"\"A stock trading environment for OpenAI gym\"\"\"\n",
    "  metadata = {'render.modes': ['human']}\n",
    "  def __init__(self, df):\n",
    "    super(StockTradingEnv, self).__init__()\n",
    "    self.df = df\n",
    "    self.reward_range = (0, MAX_ACCOUNT_BALANCE) \n",
    "    # Actions of the format Buy x%, Sell x%, Hold, etc.\n",
    "    self.action_space = spaces.Box(\n",
    "      low=np.array([0, 0]), high=np.array([100, 100]), dtype=np.float16) \n",
    "    # Prices contains the OHCL values for the last five prices\n",
    "    self.observation_space = spaces.Box(\n",
    "      low=0, high=1, shape=(6, 6), dtype=np.float16)\n",
    "  \n",
    "\n",
    "def reset(self):\n",
    "  # Reset the state of the environment to an initial state\n",
    "  self.balance = INITIAL_ACCOUNT_BALANCE\n",
    "  self.net_worth = INITIAL_ACCOUNT_BALANCE\n",
    "  self.max_net_worth = INITIAL_ACCOUNT_BALANCE\n",
    "  self.shares_held = 0\n",
    "  self.cost_basis = 0\n",
    "  self.total_shares_sold = 0\n",
    "  self.total_sales_value = 0\n",
    "  # Set the current step to a random point within the data frame\n",
    "  self.current_step = random.randint(0, len(self.df.loc[:, 'Open'].values) - 6)\n",
    "return self._next_observation()\n",
    "\n"
   ]
  },
  {
   "cell_type": "code",
   "execution_count": null,
   "metadata": {},
   "outputs": [],
   "source": [
    "def _next_observation(self):\n",
    "# Get the data points for the last 5 days and scale to between 0-1\n",
    "  frame = np.array([\n",
    "    self.df.loc[self.current_step: self.current_step +\n",
    "                5, 'Open'].values / MAX_SHARE_PRICE,\n",
    "    self.df.loc[self.current_step: self.current_step +\n",
    "                5, 'High'].values / MAX_SHARE_PRICE,\n",
    "    self.df.loc[self.current_step: self.current_step +\n",
    "                5, 'Low'].values / MAX_SHARE_PRICE,\n",
    "    self.df.loc[self.current_step: self.current_step +\n",
    "                5, 'Close'].values / MAX_SHARE_PRICE,\n",
    "    self.df.loc[self.current_step: self.current_step +\n",
    "                5, 'Volume'].values / MAX_NUM_SHARES,\n",
    "    ])\n",
    "  # Append additional data and scale each value to between 0-1\n",
    "  obs = np.append(frame, [[\n",
    "    self.balance / MAX_ACCOUNT_BALANCE,\n",
    "    self.max_net_worth / MAX_ACCOUNT_BALANCE,\n",
    "    self.shares_held / MAX_NUM_SHARES,\n",
    "    self.cost_basis / MAX_SHARE_PRICE,\n",
    "    self.total_shares_sold / MAX_NUM_SHARES,\n",
    "    self.total_sales_value / (MAX_NUM_SHARES * MAX_SHARE_PRICE),\n",
    "  ]], axis=0)\n",
    "return obs\n",
    "\n"
   ]
  },
  {
   "cell_type": "code",
   "execution_count": null,
   "metadata": {},
   "outputs": [],
   "source": [
    "def step(self, action):\n",
    "    # Execute one time step within the environment\n",
    "    self._take_action(action)\n",
    "    self.current_step += 1\n",
    "    if self.current_step > len(self.df.loc[:, 'Open'].values) - 6:\n",
    "        self.current_step = 0\n",
    "    delay_modifier = (self.current_step / MAX_STEPS)\n",
    "\n",
    "    reward = self.balance * delay_modifier\n",
    "    done = self.net_worth <= 0\n",
    "    obs = self._next_observation()\n",
    "return obs, reward, done, {}"
   ]
  },
  {
   "cell_type": "code",
   "execution_count": null,
   "metadata": {},
   "outputs": [],
   "source": [
    "def _take_action(self, action):\n",
    "  # Set the current price to a random price within the time step\n",
    "  current_price = random.uniform(\n",
    "    self.df.loc[self.current_step, \"Open\"],\n",
    "    self.df.loc[self.current_step, \"Close\"])\n",
    "  action_type = action[0]\n",
    "  amount = action[1]\n",
    "  if action_type < 1:\n",
    "    # Buy amount % of balance in shares\n",
    "    total_possible = self.balance / current_price\n",
    "    shares_bought = total_possible * amount\n",
    "    prev_cost = self.cost_basis * self.shares_held\n",
    "    additional_cost = shares_bought * current_price\n",
    "    self.balance -= additional_cost\n",
    "    self.cost_basis = (prev_cost + additional_cost) / (self.shares_held + shares_bought)\n",
    "    self.shares_held += shares_bought\n",
    "  elif actionType < 2:\n",
    "    # Sell amount % of shares held\n",
    "    shares_sold = self.shares_held * amount . \n",
    "    self.balance += shares_sold * current_price\n",
    "    self.shares_held -= shares_sold\n",
    "    self.total_shares_sold += shares_sold\n",
    "    self.total_sales_value += shares_sold * current_price\n",
    "  self.netWorth = self.balance + self.shares_held * current_price\n",
    "  if self.net_worth > self.max_net_worth:\n",
    "    self.max_net_worth = net_worth\n",
    "  if self.shares_held == 0:\n",
    "    self.cost_basis = 0"
   ]
  }
 ],
 "metadata": {
  "kernelspec": {
   "display_name": "Python 3.9.5 64-bit",
   "language": "python",
   "name": "python3"
  },
  "language_info": {
   "codemirror_mode": {
    "name": "ipython",
    "version": 3
   },
   "file_extension": ".py",
   "mimetype": "text/x-python",
   "name": "python",
   "nbconvert_exporter": "python",
   "pygments_lexer": "ipython3",
   "version": "3.9.5"
  },
  "orig_nbformat": 4,
  "vscode": {
   "interpreter": {
    "hash": "aee8b7b246df8f9039afb4144a1f6fd8d2ca17a180786b69acc140d282b71a49"
   }
  }
 },
 "nbformat": 4,
 "nbformat_minor": 2
}
