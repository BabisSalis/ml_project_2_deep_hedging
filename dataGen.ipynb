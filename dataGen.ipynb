{
 "cells": [
  {
   "cell_type": "markdown",
   "metadata": {},
   "source": [
    "## Generate data and appply classical hedging\n",
    "## Perform evaluation"
   ]
  },
  {
   "cell_type": "code",
   "execution_count": 1,
   "metadata": {},
   "outputs": [],
   "source": [
    "import os\n",
    "import numpy as np\n",
    "import matplotlib.pyplot as plt\n",
    "from tqdm import tqdm\n",
    "from src.simulation import *\n",
    "from scipy.stats import norm"
   ]
  },
  {
   "cell_type": "code",
   "execution_count": 50,
   "metadata": {},
   "outputs": [],
   "source": [
    "T = 60 # length of simulation 20=1 month, 60 = three months\n",
    "S0 = 100 # starting price\n",
    "K = 100 # strike price\n",
    "sigma = 0.2 # volatility\n",
    "r = 0 # risk-free rate\n",
    "q = 0 # dividend yield\n",
    "mu = 0.05 # expected return on stock\n",
    "kappa = 0.01 # trading cost per unit traded\n",
    "dt = 1 # hedging time step\n",
    "notional = 100 # how many stocks the option is on\n",
    "rho = -0.4 # correlation of stochastic volatility process\n",
    "v = 0.6\n",
    "sigma0 = 0.2 # starting volatility\n",
    "c = 1.5 #standard deviation coefficient\n",
    "ds = 0.01\n",
    "\n",
    "n = 25000 # number of simulatied paths\n",
    "days = 250 # number of days in a year\n",
    "freq = 5 # trading frequency\n",
    "np.random.seed(1)"
   ]
  },
  {
   "cell_type": "code",
   "execution_count": 51,
   "metadata": {},
   "outputs": [
    {
     "name": "stderr",
     "output_type": "stream",
     "text": [
      "100%|██████████| 11/11 [00:00<00:00, 600.14it/s]\n",
      "100%|██████████| 11/11 [00:00<00:00, 153.88it/s]\n"
     ]
    }
   ],
   "source": [
    "S_gbm, p_gbm, d_gbm = simulateGBM(n, T, dt, S0, mu, r, q, sigma, days, freq, K)\n",
    "\n",
    "S_sabr, s_sabr, iv_sabr, p_sabr, delta_sabr, delta_sabr_bl = simulateSABR(\n",
    "    n, T, dt, S0, mu, r, q, sigma, days, freq, rho, ds, v, K)"
   ]
  },
  {
   "cell_type": "code",
   "execution_count": 52,
   "metadata": {},
   "outputs": [],
   "source": [
    "# classical hedging implementations (trading strategies)\n",
    "trading_gbm, holding_gbm = hedgingStrategy(\"GBM\",notional, d_gbm, 0)\n",
    "trading_sabr, holding_sabr, trading_sabr_bl, holding_sabr_bl = hedgingStrategy(\"SABR\",notional, delta_sabr, delta_sabr_bl)"
   ]
  },
  {
   "cell_type": "code",
   "execution_count": 53,
   "metadata": {},
   "outputs": [],
   "source": [
    "# Accounting PnL\n",
    "APL_gbm, holding_lagged_gbm = APL_process(S_gbm, p_gbm*notional, holding_gbm, K, notional, kappa)\n",
    "APL_sabr, holding_lagged_sabr = APL_process(S_sabr, p_sabr*notional, holding_sabr, K, notional, kappa)\n",
    "APL_sabr_bl, holding_lagged_sabr_bl = APL_process(S_sabr, p_sabr*notional, holding_sabr_bl, K, notional, kappa)"
   ]
  },
  {
   "cell_type": "code",
   "execution_count": 54,
   "metadata": {},
   "outputs": [],
   "source": [
    "# Evaluation:\n",
    "# Y(0) (take mean), \n",
    "# mean of  cost as percentage of option price,\n",
    "# std of  cost as percentage of option price.\n",
    "\n",
    "Y_gbm, mPerc_gbm, stdPerc_gbm = evaluate(APL_gbm, p_gbm, c, notional) \n",
    "Y_sabr, mPerc_sabr, stdPerc_sabr = evaluate(APL_sabr, p_sabr, c, notional)\n",
    "Y_sabr_bl, mPerc_sabr_bl, stdPerc_sabr_bl = evaluate(APL_sabr_bl, p_sabr, c, notional)"
   ]
  },
  {
   "cell_type": "code",
   "execution_count": 55,
   "metadata": {},
   "outputs": [
    {
     "name": "stdout",
     "output_type": "stream",
     "text": [
      "GBM\n",
      "Y0:  10.27363089997134\n",
      "mean cost (%):  -0.15379232699938628\n",
      "std cost (%):  0.12005736194623547\n",
      "\n",
      "\n",
      "SABR delta\n",
      "Y0:  12.33178137994008\n",
      "mean cost (%):  -0.15363861464642023\n",
      "std cost (%):  0.12346655846583197\n",
      "\n",
      "\n",
      "SABR Bartlett\n",
      "Y0:  12.145400548015099\n",
      "mean cost (%):  -0.1528349721082721\n",
      "std cost (%):  0.12261278881106467\n"
     ]
    }
   ],
   "source": [
    "print(\"GBM\")\n",
    "print(\"Y0: \", np.mean(Y_gbm))\n",
    "print(\"mean cost (%): \", mPerc_gbm)\n",
    "print(\"std cost (%): \", stdPerc_gbm)\n",
    "print(\"\\n\")\n",
    "print(\"SABR delta\")\n",
    "print(\"Y0: \", np.mean(Y_sabr))\n",
    "print(\"mean cost (%): \", mPerc_sabr)\n",
    "print(\"std cost (%): \", stdPerc_sabr)\n",
    "print(\"\\n\")\n",
    "print(\"SABR Bartlett\")\n",
    "print(\"Y0: \", np.mean(Y_sabr_bl))\n",
    "print(\"mean cost (%): \", mPerc_sabr_bl)\n",
    "print(\"std cost (%): \", stdPerc_sabr_bl)"
   ]
  },
  {
   "cell_type": "code",
   "execution_count": 56,
   "metadata": {},
   "outputs": [
    {
     "name": "stdout",
     "output_type": "stream",
     "text": [
      "(50000, 12)\n",
      "(50000, 12)\n"
     ]
    }
   ],
   "source": [
    "result_folder_path = f\"data/{T//20}month/{freq}d\"\n",
    "os.makedirs(result_folder_path, exist_ok=True)\n",
    "\n",
    "# define data\n",
    "# save to csv file\n",
    "np.savetxt(f'data/{T//20}month/{freq}d/asset_price_GBM_sim.csv', S_gbm, delimiter=',')\n",
    "np.savetxt(f'data/{T//20}month/{freq}d/option_price_GBM_sim.csv', p_gbm*notional, delimiter=',')\n",
    "np.savetxt(f'data/{T//20}month/{freq}d/asset_price_SABR_sim.csv', S_sabr, delimiter=',')\n",
    "np.savetxt(f'data/{T//20}month/{freq}d/option_price_SABR_sim.csv', p_sabr*notional, delimiter=',')\n",
    "\n",
    "\n",
    "S_mixed = np.vstack((S_gbm, S_sabr))\n",
    "p_mixed = np.vstack((p_gbm*notional, p_sabr*notional))\n",
    "print(S_mixed.shape)\n",
    "print(p_mixed.shape)\n",
    "np.savetxt(f\"data/{T//20}month/{freq}d/asset_price_mixed_sim.csv\", S_mixed, delimiter=\",\")\n",
    "np.savetxt(f\"data/{T//20}month/{freq}d/option_price_mixed_sim.csv\", p_mixed, delimiter=\",\")\n"
   ]
  },
  {
   "cell_type": "markdown",
   "metadata": {},
   "source": []
  },
  {
   "cell_type": "markdown",
   "metadata": {},
   "source": []
  }
 ],
 "metadata": {
  "kernelspec": {
   "display_name": "venv",
   "language": "python",
   "name": "python3"
  },
  "language_info": {
   "codemirror_mode": {
    "name": "ipython",
    "version": 3
   },
   "file_extension": ".py",
   "mimetype": "text/x-python",
   "name": "python",
   "nbconvert_exporter": "python",
   "pygments_lexer": "ipython3",
   "version": "3.9.7"
  },
  "orig_nbformat": 4,
  "vscode": {
   "interpreter": {
    "hash": "baf7a57c528b90bfd786fcd04486c8c2dfc7aaff4a71b2812269de64341c9123"
   }
  }
 },
 "nbformat": 4,
 "nbformat_minor": 2
}
