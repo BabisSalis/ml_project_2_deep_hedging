{
 "cells": [
  {
   "attachments": {},
   "cell_type": "markdown",
   "metadata": {},
   "source": [
    "# Performance"
   ]
  },
  {
   "cell_type": "code",
   "execution_count": 1,
   "metadata": {},
   "outputs": [
    {
     "name": "stderr",
     "output_type": "stream",
     "text": [
      "/Users/mac/Desktop/Repos/ml_project_2_deep_hedging/venv/lib/python3.9/site-packages/tqdm/auto.py:22: TqdmWarning: IProgress not found. Please update jupyter and ipywidgets. See https://ipywidgets.readthedocs.io/en/stable/user_install.html\n",
      "  from .autonotebook import tqdm as notebook_tqdm\n"
     ]
    }
   ],
   "source": [
    "import os\n",
    "import numpy as np\n",
    "import matplotlib.pyplot as plt\n",
    "from tqdm import tqdm\n",
    "from scipy.stats import norm\n",
    "from src.simulation import *\n",
    "from src.env import StockTradingEnv\n",
    "from src.agent import DDPG_Hedger\n",
    "from src.network import MLP"
   ]
  },
  {
   "attachments": {},
   "cell_type": "markdown",
   "metadata": {},
   "source": [
    "## Generate data and appply classical hedging"
   ]
  },
  {
   "cell_type": "code",
   "execution_count": 2,
   "metadata": {},
   "outputs": [],
   "source": [
    "T = 60 # length of simulation 20=1 month, 60 = three months\n",
    "S0 = 100 # starting price\n",
    "K = 100 # strike price\n",
    "sigma = 0.2 # volatility\n",
    "r = 0 # risk-free rate\n",
    "q = 0 # dividend yield\n",
    "mu = 0.05 # expected return on stock\n",
    "kappa = 0.01 # trading cost per unit traded\n",
    "dt = 1 # hedging time step\n",
    "notional = 100 # how many stocks the option is on\n",
    "rho = -0.4 # correlation of stochastic volatility process\n",
    "v = 0.6\n",
    "sigma0 = 0.2 # starting volatility\n",
    "c = 1.5 #standard deviation coefficient\n",
    "ds = 0.01\n",
    "\n",
    "n = 25000 # number of simulatied paths\n",
    "days = 250 # number of days in a year\n",
    "freq = 1 # trading frequency\n",
    "np.random.seed(1)"
   ]
  },
  {
   "attachments": {},
   "cell_type": "markdown",
   "metadata": {},
   "source": [
    "- 1st run: save train data\n",
    "- 2nd run or more: ignore this process and import data and run afterwards."
   ]
  },
  {
   "cell_type": "code",
   "execution_count": 3,
   "metadata": {},
   "outputs": [
    {
     "name": "stderr",
     "output_type": "stream",
     "text": [
      "100%|██████████| 59/59 [00:00<00:00, 138.42it/s]\n",
      "100%|██████████| 59/59 [00:00<00:00, 105.95it/s]\n",
      "/Users/mac/Desktop/Repos/ml_project_2_deep_hedging/src/simulation.py:124: RuntimeWarning: invalid value encountered in divide\n",
      "  imp_vol = np.where(f == K, atm, atm * xi / xi_func)\n"
     ]
    }
   ],
   "source": [
    "S_gbm, p_gbm, d_gbm = simulateGBM(n, T, dt, S0, mu, r, q, sigma, days, freq, K)\n",
    "\n",
    "S_sabr, s_sabr, iv_sabr, p_sabr, delta_sabr, delta_sabr_bl = simulateSABR(\n",
    "    n, T, dt, S0, mu, r, q, sigma, days, freq, rho, ds, v, K)"
   ]
  },
  {
   "cell_type": "code",
   "execution_count": 4,
   "metadata": {},
   "outputs": [],
   "source": [
    "# classical hedging implementations (trading strategies)\n",
    "trading_gbm, holding_gbm = hedgingStrategy(\"GBM\",notional, d_gbm, 0)\n",
    "trading_sabr, holding_sabr, trading_sabr_bl, holding_sabr_bl = hedgingStrategy(\"SABR\",notional, delta_sabr, delta_sabr_bl)"
   ]
  },
  {
   "cell_type": "code",
   "execution_count": 5,
   "metadata": {},
   "outputs": [],
   "source": [
    "# Accounting PnL\n",
    "APL_gbm, holding_lagged_gbm = APL_process(S_gbm, p_gbm*notional, holding_gbm, K, notional, kappa)\n",
    "APL_sabr, holding_lagged_sabr = APL_process(S_sabr, p_sabr*notional, holding_sabr, K, notional, kappa)\n",
    "APL_sabr_bl, holding_lagged_sabr_bl = APL_process(S_sabr, p_sabr*notional, holding_sabr_bl, K, notional, kappa)"
   ]
  },
  {
   "cell_type": "code",
   "execution_count": 6,
   "metadata": {},
   "outputs": [],
   "source": [
    "# Evaluation:\n",
    "# Y(0) (take mean), \n",
    "# mean of  cost as percentage of option price,\n",
    "# std of  cost as percentage of option price.\n",
    "\n",
    "Y_gbm, mPerc_gbm, stdPerc_gbm = evaluate(APL_gbm, p_gbm, c, notional) \n",
    "Y_sabr, mPerc_sabr, stdPerc_sabr = evaluate(APL_sabr, p_sabr, c, notional)\n",
    "Y_sabr_bl, mPerc_sabr_bl, stdPerc_sabr_bl = evaluate(APL_sabr_bl, p_sabr, c, notional)"
   ]
  },
  {
   "cell_type": "code",
   "execution_count": 7,
   "metadata": {},
   "outputs": [
    {
     "name": "stdout",
     "output_type": "stream",
     "text": [
      "GBM\n",
      "Y0:  233.75656209909417\n",
      "mean cost (%):  0.3118939779877127\n",
      "std cost (%):  0.19091238252812498\n",
      "\n",
      "\n",
      "SABR delta\n",
      "Y0:  236.65688202375188\n",
      "mean cost (%):  0.3114695347126298\n",
      "std cost (%):  0.1961439481746562\n",
      "\n",
      "\n",
      "SABR Bartlett\n",
      "Y0:  237.37367164229065\n",
      "mean cost (%):  0.31337575787764466\n",
      "std cost (%):  0.1960961383585505\n"
     ]
    }
   ],
   "source": [
    "print(\"GBM\")\n",
    "print(\"Y0: \", np.mean(Y_gbm))\n",
    "print(\"mean cost (%): \", mPerc_gbm)\n",
    "print(\"std cost (%): \", stdPerc_gbm)\n",
    "print(\"\\n\")\n",
    "print(\"SABR delta\")\n",
    "print(\"Y0: \", np.mean(Y_sabr))\n",
    "print(\"mean cost (%): \", mPerc_sabr)\n",
    "print(\"std cost (%): \", stdPerc_sabr)\n",
    "print(\"\\n\")\n",
    "print(\"SABR Bartlett\")\n",
    "print(\"Y0: \", np.mean(Y_sabr_bl))\n",
    "print(\"mean cost (%): \", mPerc_sabr_bl)\n",
    "print(\"std cost (%): \", stdPerc_sabr_bl)"
   ]
  },
  {
   "attachments": {},
   "cell_type": "markdown",
   "metadata": {},
   "source": [
    "## data saving"
   ]
  },
  {
   "cell_type": "code",
   "execution_count": 56,
   "metadata": {},
   "outputs": [
    {
     "name": "stdout",
     "output_type": "stream",
     "text": [
      "(50000, 12)\n",
      "(50000, 12)\n"
     ]
    }
   ],
   "source": [
    "result_folder_path = f\"data/{T//20}month/{freq}d\"\n",
    "os.makedirs(result_folder_path, exist_ok=True)\n",
    "\n",
    "# define data\n",
    "# save to csv file\n",
    "np.savetxt(f'data/{T//20}month/{freq}d/asset_price_GBM_sim.csv', S_gbm, delimiter=',')\n",
    "np.savetxt(f'data/{T//20}month/{freq}d/option_price_GBM_sim.csv', p_gbm*notional, delimiter=',')\n",
    "np.savetxt(f'data/{T//20}month/{freq}d/asset_price_SABR_sim.csv', S_sabr, delimiter=',')\n",
    "np.savetxt(f'data/{T//20}month/{freq}d/option_price_SABR_sim.csv', p_sabr*notional, delimiter=',')\n",
    "\n",
    "\n",
    "S_mixed = np.vstack((S_gbm, S_sabr))\n",
    "p_mixed = np.vstack((p_gbm*notional, p_sabr*notional))\n",
    "print(S_mixed.shape)\n",
    "print(p_mixed.shape)\n",
    "np.savetxt(f\"data/{T//20}month/{freq}d/asset_price_mixed_sim.csv\", S_mixed, delimiter=\",\")\n",
    "np.savetxt(f\"data/{T//20}month/{freq}d/option_price_mixed_sim.csv\", p_mixed, delimiter=\",\")\n"
   ]
  },
  {
   "attachments": {},
   "cell_type": "markdown",
   "metadata": {},
   "source": [
    "# Deep RL Method "
   ]
  },
  {
   "cell_type": "markdown",
   "metadata": {},
   "source": []
  },
  {
   "cell_type": "code",
   "execution_count": 8,
   "metadata": {},
   "outputs": [
    {
     "ename": "RuntimeError",
     "evalue": "Error(s) in loading state_dict for MLP:\n\tUnexpected key(s) in state_dict: \"model.7.weight\", \"model.7.bias\", \"model.0.bias\", \"model.3.bias\", \"model.6.bias\". \n\tsize mismatch for model.0.weight: copying a param with shape torch.Size([4]) from checkpoint, the shape in current model is torch.Size([64, 4]).\n\tsize mismatch for model.1.weight: copying a param with shape torch.Size([32, 4]) from checkpoint, the shape in current model is torch.Size([64]).\n\tsize mismatch for model.1.bias: copying a param with shape torch.Size([32]) from checkpoint, the shape in current model is torch.Size([64]).\n\tsize mismatch for model.3.weight: copying a param with shape torch.Size([32]) from checkpoint, the shape in current model is torch.Size([32, 64]).\n\tsize mismatch for model.4.weight: copying a param with shape torch.Size([64, 32]) from checkpoint, the shape in current model is torch.Size([32]).\n\tsize mismatch for model.4.bias: copying a param with shape torch.Size([64]) from checkpoint, the shape in current model is torch.Size([32]).\n\tsize mismatch for model.6.weight: copying a param with shape torch.Size([64]) from checkpoint, the shape in current model is torch.Size([1, 32]).",
     "output_type": "error",
     "traceback": [
      "\u001b[0;31m---------------------------------------------------------------------------\u001b[0m",
      "\u001b[0;31mRuntimeError\u001b[0m                              Traceback (most recent call last)",
      "Cell \u001b[0;32mIn[8], line 15\u001b[0m\n\u001b[1;32m     13\u001b[0m qnet_2 \u001b[39m=\u001b[39m MLP(nState \u001b[39m+\u001b[39m nAction, \u001b[39m32\u001b[39m, nAction, \u001b[39m\"\u001b[39m\u001b[39m\"\u001b[39m)\n\u001b[1;32m     14\u001b[0m agent \u001b[39m=\u001b[39m DDPG_Hedger(actor, qnet_1, qnet_2, \u001b[39m0\u001b[39m, \u001b[39m0\u001b[39m, \u001b[39m1\u001b[39m, \u001b[39m32\u001b[39m)\n\u001b[0;32m---> 15\u001b[0m agent\u001b[39m.\u001b[39;49mload(\u001b[39m'\u001b[39;49m\u001b[39mv7\u001b[39;49m\u001b[39m'\u001b[39;49m)\n",
      "File \u001b[0;32m~/Desktop/Repos/ml_project_2_deep_hedging/src/agent.py:180\u001b[0m, in \u001b[0;36mDDPG_Hedger.load\u001b[0;34m(self, name)\u001b[0m\n\u001b[1;32m    178\u001b[0m \u001b[39mdef\u001b[39;00m \u001b[39mload\u001b[39m(\u001b[39mself\u001b[39m, name):\n\u001b[1;32m    179\u001b[0m     \u001b[39m# load trained weights to Q_1, Q_2, Actor\u001b[39;00m\n\u001b[0;32m--> 180\u001b[0m     \u001b[39mself\u001b[39;49m\u001b[39m.\u001b[39;49mcritic_1\u001b[39m.\u001b[39;49mload_state_dict(torch\u001b[39m.\u001b[39;49mload(\u001b[39mf\u001b[39;49m\u001b[39m\"\u001b[39;49m\u001b[39mmodel/\u001b[39;49m\u001b[39m{\u001b[39;49;00mname\u001b[39m}\u001b[39;49;00m\u001b[39m/critic_1_weight.pt\u001b[39;49m\u001b[39m\"\u001b[39;49m))\n\u001b[1;32m    181\u001b[0m     \u001b[39mself\u001b[39m\u001b[39m.\u001b[39mcritic_2\u001b[39m.\u001b[39mload_state_dict(torch\u001b[39m.\u001b[39mload(\u001b[39mf\u001b[39m\u001b[39m\"\u001b[39m\u001b[39mmodel/\u001b[39m\u001b[39m{\u001b[39;00mname\u001b[39m}\u001b[39;00m\u001b[39m/critic_2_weight.pt\u001b[39m\u001b[39m\"\u001b[39m))\n\u001b[1;32m    182\u001b[0m     \u001b[39mself\u001b[39m\u001b[39m.\u001b[39mactor\u001b[39m.\u001b[39mload_state_dict(torch\u001b[39m.\u001b[39mload(\u001b[39mf\u001b[39m\u001b[39m\"\u001b[39m\u001b[39mmodel/\u001b[39m\u001b[39m{\u001b[39;00mname\u001b[39m}\u001b[39;00m\u001b[39m/actor_weight.pt\u001b[39m\u001b[39m\"\u001b[39m))\n",
      "File \u001b[0;32m~/Desktop/Repos/ml_project_2_deep_hedging/venv/lib/python3.9/site-packages/torch/nn/modules/module.py:1671\u001b[0m, in \u001b[0;36mModule.load_state_dict\u001b[0;34m(self, state_dict, strict)\u001b[0m\n\u001b[1;32m   1666\u001b[0m         error_msgs\u001b[39m.\u001b[39minsert(\n\u001b[1;32m   1667\u001b[0m             \u001b[39m0\u001b[39m, \u001b[39m'\u001b[39m\u001b[39mMissing key(s) in state_dict: \u001b[39m\u001b[39m{}\u001b[39;00m\u001b[39m. \u001b[39m\u001b[39m'\u001b[39m\u001b[39m.\u001b[39mformat(\n\u001b[1;32m   1668\u001b[0m                 \u001b[39m'\u001b[39m\u001b[39m, \u001b[39m\u001b[39m'\u001b[39m\u001b[39m.\u001b[39mjoin(\u001b[39m'\u001b[39m\u001b[39m\"\u001b[39m\u001b[39m{}\u001b[39;00m\u001b[39m\"\u001b[39m\u001b[39m'\u001b[39m\u001b[39m.\u001b[39mformat(k) \u001b[39mfor\u001b[39;00m k \u001b[39min\u001b[39;00m missing_keys)))\n\u001b[1;32m   1670\u001b[0m \u001b[39mif\u001b[39;00m \u001b[39mlen\u001b[39m(error_msgs) \u001b[39m>\u001b[39m \u001b[39m0\u001b[39m:\n\u001b[0;32m-> 1671\u001b[0m     \u001b[39mraise\u001b[39;00m \u001b[39mRuntimeError\u001b[39;00m(\u001b[39m'\u001b[39m\u001b[39mError(s) in loading state_dict for \u001b[39m\u001b[39m{}\u001b[39;00m\u001b[39m:\u001b[39m\u001b[39m\\n\u001b[39;00m\u001b[39m\\t\u001b[39;00m\u001b[39m{}\u001b[39;00m\u001b[39m'\u001b[39m\u001b[39m.\u001b[39mformat(\n\u001b[1;32m   1672\u001b[0m                        \u001b[39mself\u001b[39m\u001b[39m.\u001b[39m\u001b[39m__class__\u001b[39m\u001b[39m.\u001b[39m\u001b[39m__name__\u001b[39m, \u001b[39m\"\u001b[39m\u001b[39m\\n\u001b[39;00m\u001b[39m\\t\u001b[39;00m\u001b[39m\"\u001b[39m\u001b[39m.\u001b[39mjoin(error_msgs)))\n\u001b[1;32m   1673\u001b[0m \u001b[39mreturn\u001b[39;00m _IncompatibleKeys(missing_keys, unexpected_keys)\n",
      "\u001b[0;31mRuntimeError\u001b[0m: Error(s) in loading state_dict for MLP:\n\tUnexpected key(s) in state_dict: \"model.7.weight\", \"model.7.bias\", \"model.0.bias\", \"model.3.bias\", \"model.6.bias\". \n\tsize mismatch for model.0.weight: copying a param with shape torch.Size([4]) from checkpoint, the shape in current model is torch.Size([64, 4]).\n\tsize mismatch for model.1.weight: copying a param with shape torch.Size([32, 4]) from checkpoint, the shape in current model is torch.Size([64]).\n\tsize mismatch for model.1.bias: copying a param with shape torch.Size([32]) from checkpoint, the shape in current model is torch.Size([64]).\n\tsize mismatch for model.3.weight: copying a param with shape torch.Size([32]) from checkpoint, the shape in current model is torch.Size([32, 64]).\n\tsize mismatch for model.4.weight: copying a param with shape torch.Size([64, 32]) from checkpoint, the shape in current model is torch.Size([32]).\n\tsize mismatch for model.4.bias: copying a param with shape torch.Size([64]) from checkpoint, the shape in current model is torch.Size([32]).\n\tsize mismatch for model.6.weight: copying a param with shape torch.Size([64]) from checkpoint, the shape in current model is torch.Size([1, 32])."
     ]
    }
   ],
   "source": [
    "\n",
    "env = StockTradingEnv(maturity=3, frequency=1, data_type=\"GBM\", test_env=True)\n",
    "\n",
    "# set same dataset as delta hedging\n",
    "env.asset_price = S_gbm\n",
    "env.option_price = p_gbm\n",
    "\n",
    "nState, nAction = env.observation_space.shape[0], \\\n",
    "                    env.action_space.shape[0]  # 3, 1\n",
    "\n",
    "# we use hidden layer size of 32, 64 as the author used.\n",
    "actor = MLP(nState, 32, nAction, \"Sigmoid\")\n",
    "qnet_1 = MLP(nState + nAction, 32, nAction, \"\")\n",
    "qnet_2 = MLP(nState + nAction, 32, nAction, \"\")\n",
    "agent = DDPG_Hedger(actor, qnet_1, qnet_2, 0, 0, 1, 32)\n",
    "agent.load('v7')"
   ]
  },
  {
   "cell_type": "code",
   "execution_count": 9,
   "metadata": {},
   "outputs": [
    {
     "name": "stdout",
     "output_type": "stream",
     "text": [
      "Episode 0\n",
      "Episode 1000\n",
      "Episode 2000\n",
      "Episode 3000\n",
      "Episode 4000\n",
      "Episode 5000\n",
      "Episode 6000\n",
      "Episode 7000\n",
      "Episode 8000\n",
      "Episode 9000\n",
      "Episode 10000\n",
      "Episode 11000\n",
      "Episode 12000\n",
      "Episode 13000\n",
      "Episode 14000\n",
      "Episode 15000\n",
      "Episode 16000\n",
      "Episode 17000\n",
      "Episode 18000\n",
      "Episode 19000\n",
      "Episode 20000\n",
      "Episode 21000\n",
      "Episode 22000\n",
      "Episode 23000\n",
      "Episode 24000\n"
     ]
    }
   ],
   "source": [
    "path_indice, rewards_path, action_path = [], [], []\n",
    "for i in range(25000):\n",
    "    state = env.reset()\n",
    "    env.path_idx = i\n",
    "    \n",
    "    path_indice.append(env.path_idx)\n",
    "    rewards, actions = [], [0]\n",
    "    done = False\n",
    "    \n",
    "    if i%1000 == 0:\n",
    "        print(f'Episode {i}')\n",
    "    while not done:\n",
    "        normalized_state = env.normalize(state)\n",
    "        \n",
    "        # action without exploration\n",
    "        action = agent.act(normalized_state, 0)\n",
    "        \n",
    "        next_state, reward, done = env.step(action)\n",
    "\n",
    "        state = next_state\n",
    "        rewards.append(np.round(reward, 2))\n",
    "        actions.append(np.round(action, 2)) # each episode [0.99, 13.20 ... 100 ] shape (1,60) \n",
    "         \n",
    "        if done:\n",
    "            break\n",
    "\n",
    "    rewards_path.append(rewards) # <- (numEpisode=25000, 60)\n",
    "    action_path.append(actions) # (numEpisode=25000, 60) = holding_gbm"
   ]
  },
  {
   "cell_type": "code",
   "execution_count": 10,
   "metadata": {},
   "outputs": [],
   "source": [
    "# get action array as holding gbm\n",
    "apl_gbm_rl, holding_lagged_rl = APL_process(S_gbm, p_gbm*notional, np.array(action_path), K, notional, kappa)"
   ]
  },
  {
   "cell_type": "code",
   "execution_count": 11,
   "metadata": {},
   "outputs": [],
   "source": [
    "Y_gbm_rl, mPerc_gbm_rl, stdPerc_gbm_rl = evaluate(apl_gbm_rl, p_gbm, c, notional) "
   ]
  },
  {
   "cell_type": "code",
   "execution_count": 12,
   "metadata": {},
   "outputs": [
    {
     "name": "stdout",
     "output_type": "stream",
     "text": [
      "GBM\n",
      "Y0:  233.75656209909417\n",
      "mean cost (%):  0.3118939779877127\n",
      "std cost (%):  0.19091238252812498\n",
      "GBM RL\n",
      "Y0:  1266.9395813089816\n",
      "mean cost (%):  1.367338884819828\n",
      "std cost (%):  1.2501269582588428\n"
     ]
    }
   ],
   "source": [
    "print(\"GBM\")\n",
    "print(\"Y0: \", np.mean(Y_gbm))\n",
    "print(\"mean cost (%): \", mPerc_gbm)\n",
    "print(\"std cost (%): \", stdPerc_gbm)\n",
    "\n",
    "print(\"GBM RL\")\n",
    "print(\"Y0: \", np.mean(Y_gbm_rl))\n",
    "print(\"mean cost (%): \", mPerc_gbm_rl)\n",
    "print(\"std cost (%): \", stdPerc_gbm_rl)"
   ]
  },
  {
   "attachments": {},
   "cell_type": "markdown",
   "metadata": {},
   "source": [
    "# Results"
   ]
  },
  {
   "attachments": {},
   "cell_type": "markdown",
   "metadata": {},
   "source": [
    "- add reward plots \n",
    "- episode total reward histograms (classic delta, RL agent)"
   ]
  },
  {
   "cell_type": "code",
   "execution_count": null,
   "metadata": {},
   "outputs": [],
   "source": [
    "# ep 1 = 800, ep 2 = 67, ep 3 = -123 cumulative (up to 25000 episodes) \n",
    "\n",
    "# (25000, 2): 2 means classical delta and RL agent hedging."
   ]
  },
  {
   "cell_type": "code",
   "execution_count": 15,
   "metadata": {},
   "outputs": [
    {
     "data": {
      "text/plain": [
       "[<matplotlib.lines.Line2D at 0x7f7ff31c53a0>]"
      ]
     },
     "execution_count": 15,
     "metadata": {},
     "output_type": "execute_result"
    },
    {
     "data": {
      "image/png": "[encoded data removed]",
      "text/plain": [
       "<Figure size 640x480 with 1 Axes>"
      ]
     },
     "metadata": {},
     "output_type": "display_data"
    }
   ],
   "source": [
    "plt.plot(np.array(action_path)[50], label='RL delta')\n",
    "plt.plot(holding_gbm[50], label='Classic delta')\n",
    "plt.xlabel('')"
   ]
  },
  {
   "cell_type": "code",
   "execution_count": null,
   "metadata": {},
   "outputs": [],
   "source": []
  }
 ],
 "metadata": {
  "kernelspec": {
   "display_name": "venv",
   "language": "python",
   "name": "python3"
  },
  "language_info": {
   "codemirror_mode": {
    "name": "ipython",
    "version": 3
   },
   "file_extension": ".py",
   "mimetype": "text/x-python",
   "name": "python",
   "nbconvert_exporter": "python",
   "pygments_lexer": "ipython3",
   "version": "3.9.7"
  },
  "orig_nbformat": 4,
  "vscode": {
   "interpreter": {
    "hash": "baf7a57c528b90bfd786fcd04486c8c2dfc7aaff4a71b2812269de64341c9123"
   }
  }
 },
 "nbformat": 4,
 "nbformat_minor": 2
}
