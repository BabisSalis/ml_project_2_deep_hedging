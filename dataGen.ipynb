{
 "cells": [
  {
   "cell_type": "markdown",
   "metadata": {},
   "source": [
    "## Generate data and appply classical hedging\n",
    "## Perform evaluation"
   ]
  },
  {
   "cell_type": "code",
   "execution_count": 1,
   "metadata": {},
   "outputs": [
    {
     "name": "stderr",
     "output_type": "stream",
     "text": [
      "/Users/mac/Desktop/Repos/ml_project_2_deep_hedging/venv/lib/python3.9/site-packages/tqdm/auto.py:22: TqdmWarning: IProgress not found. Please update jupyter and ipywidgets. See https://ipywidgets.readthedocs.io/en/stable/user_install.html\n",
      "  from .autonotebook import tqdm as notebook_tqdm\n"
     ]
    }
   ],
   "source": [
    "import os\n",
    "import numpy as np\n",
    "import matplotlib.pyplot as plt\n",
    "from tqdm import tqdm\n",
    "from scipy.stats import norm\n",
    "from src.simulation import *\n",
    "from src.env import StockTradingEnv\n",
    "from src.agent import DDPG_Hedger\n",
    "from src.network import MLP"
   ]
  },
  {
   "cell_type": "code",
   "execution_count": 2,
   "metadata": {},
   "outputs": [],
   "source": [
    "T = 60 # length of simulation 20=1 month, 60 = three months\n",
    "S0 = 100 # starting price\n",
    "K = 100 # strike price\n",
    "sigma = 0.2 # volatility\n",
    "r = 0 # risk-free rate\n",
    "q = 0 # dividend yield\n",
    "mu = 0.05 # expected return on stock\n",
    "kappa = 0.01 # trading cost per unit traded\n",
    "dt = 1 # hedging time step\n",
    "notional = 100 # how many stocks the option is on\n",
    "rho = -0.4 # correlation of stochastic volatility process\n",
    "v = 0.6\n",
    "sigma0 = 0.2 # starting volatility\n",
    "c = 1.5 #standard deviation coefficient\n",
    "ds = 0.01\n",
    "\n",
    "n = 25000 # number of simulatied paths\n",
    "days = 250 # number of days in a year\n",
    "freq = 1 # trading frequency\n",
    "np.random.seed(1)"
   ]
  },
  {
   "cell_type": "code",
   "execution_count": 3,
   "metadata": {},
   "outputs": [
    {
     "name": "stderr",
     "output_type": "stream",
     "text": [
      "100%|██████████| 59/59 [00:00<00:00, 550.82it/s]\n",
      "100%|██████████| 59/59 [00:00<00:00, 249.99it/s]\n",
      "/Users/mac/Desktop/Repos/ml_project_2_deep_hedging/src/simulation.py:124: RuntimeWarning: invalid value encountered in divide\n",
      "  imp_vol = np.where(f == K, atm, atm * xi / xi_func)\n"
     ]
    }
   ],
   "source": [
    "S_gbm, p_gbm, d_gbm = simulateGBM(n, T, dt, S0, mu, r, q, sigma, days, freq, K)\n",
    "\n",
    "S_sabr, s_sabr, iv_sabr, p_sabr, delta_sabr, delta_sabr_bl = simulateSABR(\n",
    "    n, T, dt, S0, mu, r, q, sigma, days, freq, rho, ds, v, K)"
   ]
  },
  {
   "cell_type": "code",
   "execution_count": 4,
   "metadata": {},
   "outputs": [],
   "source": [
    "# classical hedging implementations (trading strategies)\n",
    "trading_gbm, holding_gbm = hedgingStrategy(\"GBM\",notional, d_gbm, 0)\n",
    "trading_sabr, holding_sabr, trading_sabr_bl, holding_sabr_bl = hedgingStrategy(\"SABR\",notional, delta_sabr, delta_sabr_bl)"
   ]
  },
  {
   "cell_type": "code",
   "execution_count": 5,
   "metadata": {},
   "outputs": [],
   "source": [
    "# Accounting PnL\n",
    "APL_gbm, holding_lagged_gbm = APL_process(S_gbm, p_gbm*notional, holding_gbm, K, notional, kappa)\n",
    "APL_sabr, holding_lagged_sabr = APL_process(S_sabr, p_sabr*notional, holding_sabr, K, notional, kappa)\n",
    "APL_sabr_bl, holding_lagged_sabr_bl = APL_process(S_sabr, p_sabr*notional, holding_sabr_bl, K, notional, kappa)"
   ]
  },
  {
   "cell_type": "code",
   "execution_count": 6,
   "metadata": {},
   "outputs": [],
   "source": [
    "# Evaluation:\n",
    "# Y(0) (take mean), \n",
    "# mean of  cost as percentage of option price,\n",
    "# std of  cost as percentage of option price.\n",
    "\n",
    "Y_gbm, mPerc_gbm, stdPerc_gbm = evaluate(APL_gbm, p_gbm, c, notional) \n",
    "Y_sabr, mPerc_sabr, stdPerc_sabr = evaluate(APL_sabr, p_sabr, c, notional)\n",
    "Y_sabr_bl, mPerc_sabr_bl, stdPerc_sabr_bl = evaluate(APL_sabr_bl, p_sabr, c, notional)"
   ]
  },
  {
   "cell_type": "code",
   "execution_count": 7,
   "metadata": {},
   "outputs": [
    {
     "name": "stdout",
     "output_type": "stream",
     "text": [
      "GBM\n",
      "Y0:  233.75656209909417\n",
      "mean cost (%):  0.3118939779877127\n",
      "std cost (%):  0.19091238252812498\n",
      "\n",
      "\n",
      "SABR delta\n",
      "Y0:  236.65688202375188\n",
      "mean cost (%):  0.3114695347126298\n",
      "std cost (%):  0.1961439481746562\n",
      "\n",
      "\n",
      "SABR Bartlett\n",
      "Y0:  237.37367164229065\n",
      "mean cost (%):  0.31337575787764466\n",
      "std cost (%):  0.1960961383585505\n"
     ]
    }
   ],
   "source": [
    "print(\"GBM\")\n",
    "print(\"Y0: \", np.mean(Y_gbm))\n",
    "print(\"mean cost (%): \", mPerc_gbm)\n",
    "print(\"std cost (%): \", stdPerc_gbm)\n",
    "print(\"\\n\")\n",
    "print(\"SABR delta\")\n",
    "print(\"Y0: \", np.mean(Y_sabr))\n",
    "print(\"mean cost (%): \", mPerc_sabr)\n",
    "print(\"std cost (%): \", stdPerc_sabr)\n",
    "print(\"\\n\")\n",
    "print(\"SABR Bartlett\")\n",
    "print(\"Y0: \", np.mean(Y_sabr_bl))\n",
    "print(\"mean cost (%): \", mPerc_sabr_bl)\n",
    "print(\"std cost (%): \", stdPerc_sabr_bl)"
   ]
  },
  {
   "attachments": {},
   "cell_type": "markdown",
   "metadata": {},
   "source": [
    "## data saving"
   ]
  },
  {
   "cell_type": "code",
   "execution_count": 56,
   "metadata": {},
   "outputs": [
    {
     "name": "stdout",
     "output_type": "stream",
     "text": [
      "(50000, 12)\n",
      "(50000, 12)\n"
     ]
    }
   ],
   "source": [
    "result_folder_path = f\"data/{T//20}month/{freq}d\"\n",
    "os.makedirs(result_folder_path, exist_ok=True)\n",
    "\n",
    "# define data\n",
    "# save to csv file\n",
    "np.savetxt(f'data/{T//20}month/{freq}d/asset_price_GBM_sim.csv', S_gbm, delimiter=',')\n",
    "np.savetxt(f'data/{T//20}month/{freq}d/option_price_GBM_sim.csv', p_gbm*notional, delimiter=',')\n",
    "np.savetxt(f'data/{T//20}month/{freq}d/asset_price_SABR_sim.csv', S_sabr, delimiter=',')\n",
    "np.savetxt(f'data/{T//20}month/{freq}d/option_price_SABR_sim.csv', p_sabr*notional, delimiter=',')\n",
    "\n",
    "\n",
    "S_mixed = np.vstack((S_gbm, S_sabr))\n",
    "p_mixed = np.vstack((p_gbm*notional, p_sabr*notional))\n",
    "print(S_mixed.shape)\n",
    "print(p_mixed.shape)\n",
    "np.savetxt(f\"data/{T//20}month/{freq}d/asset_price_mixed_sim.csv\", S_mixed, delimiter=\",\")\n",
    "np.savetxt(f\"data/{T//20}month/{freq}d/option_price_mixed_sim.csv\", p_mixed, delimiter=\",\")\n"
   ]
  },
  {
   "attachments": {},
   "cell_type": "markdown",
   "metadata": {},
   "source": [
    "# Deep Hedging "
   ]
  },
  {
   "cell_type": "markdown",
   "metadata": {},
   "source": []
  },
  {
   "cell_type": "code",
   "execution_count": 8,
   "metadata": {},
   "outputs": [],
   "source": [
    "env = StockTradingEnv(maturity=3, frequency=1, data_type=\"GBM\", test_env=True)\n",
    "\n",
    "# set same dataset as delta hedging\n",
    "env.asset_price = S_gbm\n",
    "env.option_price = p_gbm\n",
    "\n",
    "nState, nAction = env.observation_space.shape[0], \\\n",
    "                    env.action_space.shape[0]  # 3, 1\n",
    "\n",
    "# we use hidden layer size of 32, 64 as the author used.\n",
    "actor = MLP(nState, 32, nAction, \"Sigmoid\")\n",
    "qnet_1 = MLP(nState + nAction, 32, nAction, \"\")\n",
    "qnet_2 = MLP(nState + nAction, 32, nAction, \"\")\n",
    "agent = DDPG_Hedger(actor, qnet_1, qnet_2, 0, 0, 1, 32)\n",
    "agent.load('v7')"
   ]
  },
  {
   "cell_type": "code",
   "execution_count": 9,
   "metadata": {},
   "outputs": [
    {
     "name": "stdout",
     "output_type": "stream",
     "text": [
      "Episode 0\n",
      "Episode 1000\n",
      "Episode 2000\n",
      "Episode 3000\n",
      "Episode 4000\n",
      "Episode 5000\n",
      "Episode 6000\n",
      "Episode 7000\n",
      "Episode 8000\n",
      "Episode 9000\n",
      "Episode 10000\n",
      "Episode 11000\n",
      "Episode 12000\n",
      "Episode 13000\n",
      "Episode 14000\n",
      "Episode 15000\n",
      "Episode 16000\n",
      "Episode 17000\n",
      "Episode 18000\n",
      "Episode 19000\n",
      "Episode 20000\n",
      "Episode 21000\n",
      "Episode 22000\n",
      "Episode 23000\n",
      "Episode 24000\n"
     ]
    }
   ],
   "source": [
    "path_indice, rewards_path, action_path = [], [], []\n",
    "for i in range(25000):\n",
    "    state = env.reset()\n",
    "    env.path_idx = i\n",
    "    \n",
    "    path_indice.append(env.path_idx)\n",
    "    rewards, actions = [], [0]\n",
    "    done = False\n",
    "    \n",
    "    if i%1000 == 0:\n",
    "        print(f'Episode {i}')\n",
    "    while not done:\n",
    "        normalized_state = env.normalize(state)\n",
    "        \n",
    "        # action without exploration\n",
    "        action = agent.act(normalized_state, 0)\n",
    "        \n",
    "        next_state, reward, done = env.step(action)\n",
    "\n",
    "        state = next_state\n",
    "        rewards.append(np.round(reward, 2))\n",
    "        actions.append(np.round(action, 2))\n",
    "        \n",
    "        if done:\n",
    "            break\n",
    "\n",
    "    rewards_path.append(rewards)\n",
    "    action_path.append(actions)"
   ]
  },
  {
   "cell_type": "code",
   "execution_count": 10,
   "metadata": {},
   "outputs": [],
   "source": [
    "# get action array as holding gbm\n",
    "apl_gbm_rl, holding_lagged_rl = APL_process(S_gbm, p_gbm*notional, np.array(action_path), K, notional, kappa)"
   ]
  },
  {
   "cell_type": "code",
   "execution_count": 11,
   "metadata": {},
   "outputs": [],
   "source": [
    "Y_gbm_rl, mPerc_gbm_rl, stdPerc_gbm_rl = evaluate(apl_gbm_rl, p_gbm, c, notional) "
   ]
  },
  {
   "cell_type": "code",
   "execution_count": 12,
   "metadata": {},
   "outputs": [
    {
     "name": "stdout",
     "output_type": "stream",
     "text": [
      "GBM\n",
      "Y0:  233.75656209909417\n",
      "mean cost (%):  0.3118939779877127\n",
      "std cost (%):  0.19091238252812498\n",
      "GBM RL\n",
      "Y0:  1266.9395813089816\n",
      "mean cost (%):  1.367338884819828\n",
      "std cost (%):  1.2501269582588428\n"
     ]
    }
   ],
   "source": [
    "print(\"GBM\")\n",
    "print(\"Y0: \", np.mean(Y_gbm))\n",
    "print(\"mean cost (%): \", mPerc_gbm)\n",
    "print(\"std cost (%): \", stdPerc_gbm)\n",
    "\n",
    "print(\"GBM RL\")\n",
    "print(\"Y0: \", np.mean(Y_gbm_rl))\n",
    "print(\"mean cost (%): \", mPerc_gbm_rl)\n",
    "print(\"std cost (%): \", stdPerc_gbm_rl)"
   ]
  },
  {
   "cell_type": "code",
   "execution_count": 13,
   "metadata": {},
   "outputs": [
    {
     "data": {
      "text/plain": [
       "[<matplotlib.lines.Line2D at 0x7f7ff2922970>]"
      ]
     },
     "execution_count": 13,
     "metadata": {},
     "output_type": "execute_result"
    },
    {
     "data": {
      "image/png": "[encoded data removed]",
      "text/plain": [
       "<Figure size 640x480 with 1 Axes>"
      ]
     },
     "metadata": {},
     "output_type": "display_data"
    }
   ],
   "source": [
    "plt.plot(np.array(action_path)[0], label='RL delta')\n",
    "plt.plot(holding_gbm[0], label='Classic delta')"
   ]
  },
  {
   "cell_type": "code",
   "execution_count": null,
   "metadata": {},
   "outputs": [],
   "source": []
  }
 ],
 "metadata": {
  "kernelspec": {
   "display_name": "venv",
   "language": "python",
   "name": "python3"
  },
  "language_info": {
   "codemirror_mode": {
    "name": "ipython",
    "version": 3
   },
   "file_extension": ".py",
   "mimetype": "text/x-python",
   "name": "python",
   "nbconvert_exporter": "python",
   "pygments_lexer": "ipython3",
   "version": "3.9.7"
  },
  "orig_nbformat": 4,
  "vscode": {
   "interpreter": {
    "hash": "baf7a57c528b90bfd786fcd04486c8c2dfc7aaff4a71b2812269de64341c9123"
   }
  }
 },
 "nbformat": 4,
 "nbformat_minor": 2
}
